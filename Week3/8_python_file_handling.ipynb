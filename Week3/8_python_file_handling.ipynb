{
 "cells": [
  {
   "cell_type": "markdown",
   "id": "33d87708",
   "metadata": {},
   "source": [
    "### Read the file"
   ]
  },
  {
   "cell_type": "code",
   "execution_count": 2,
   "id": "8862ee9e",
   "metadata": {},
   "outputs": [],
   "source": [
    "f = open('mydata.txt')"
   ]
  },
  {
   "cell_type": "code",
   "execution_count": 3,
   "id": "d62dcf89",
   "metadata": {},
   "outputs": [
    {
     "data": {
      "text/plain": [
       "<_io.TextIOWrapper name='mydata.txt' mode='r' encoding='UTF-8'>"
      ]
     },
     "execution_count": 3,
     "metadata": {},
     "output_type": "execute_result"
    }
   ],
   "source": [
    "f"
   ]
  },
  {
   "cell_type": "markdown",
   "id": "1d2506f5",
   "metadata": {},
   "source": [
    "#### 1. Check the file is readable or not"
   ]
  },
  {
   "cell_type": "code",
   "execution_count": 6,
   "id": "0eb77dc4",
   "metadata": {},
   "outputs": [
    {
     "data": {
      "text/plain": [
       "True"
      ]
     },
     "execution_count": 6,
     "metadata": {},
     "output_type": "execute_result"
    }
   ],
   "source": [
    "f.readable()"
   ]
  },
  {
   "cell_type": "markdown",
   "id": "82fb20e1",
   "metadata": {},
   "source": [
    "#### 2. Read a single line"
   ]
  },
  {
   "cell_type": "code",
   "execution_count": 8,
   "id": "91a606d5",
   "metadata": {},
   "outputs": [
    {
     "data": {
      "text/plain": [
       "'Hello friends!\\n'"
      ]
     },
     "execution_count": 8,
     "metadata": {},
     "output_type": "execute_result"
    }
   ],
   "source": [
    "f = open('mydata.txt')\n",
    "f.readline()"
   ]
  },
  {
   "cell_type": "code",
   "execution_count": 9,
   "id": "035b6183",
   "metadata": {},
   "outputs": [
    {
     "data": {
      "text/plain": [
       "'How are you?\\n'"
      ]
     },
     "execution_count": 9,
     "metadata": {},
     "output_type": "execute_result"
    }
   ],
   "source": [
    "f.readline()"
   ]
  },
  {
   "cell_type": "code",
   "execution_count": 10,
   "id": "74acc031",
   "metadata": {},
   "outputs": [
    {
     "data": {
      "text/plain": [
       "'Welcome to the learning journey of Python Programming.'"
      ]
     },
     "execution_count": 10,
     "metadata": {},
     "output_type": "execute_result"
    }
   ],
   "source": [
    "f.readline()"
   ]
  },
  {
   "cell_type": "code",
   "execution_count": 11,
   "id": "fca47f4a",
   "metadata": {},
   "outputs": [
    {
     "data": {
      "text/plain": [
       "''"
      ]
     },
     "execution_count": 11,
     "metadata": {},
     "output_type": "execute_result"
    }
   ],
   "source": [
    "f.readline()"
   ]
  },
  {
   "cell_type": "markdown",
   "id": "a0455c7f",
   "metadata": {},
   "source": [
    "#### 3. Read multiple lines"
   ]
  },
  {
   "cell_type": "code",
   "execution_count": 13,
   "id": "83ae93b5",
   "metadata": {},
   "outputs": [],
   "source": [
    "f = open('mydata.txt')\n",
    "lines = f.readlines()"
   ]
  },
  {
   "cell_type": "code",
   "execution_count": 14,
   "id": "636ea294",
   "metadata": {},
   "outputs": [
    {
     "name": "stdout",
     "output_type": "stream",
     "text": [
      "['Hello friends!\\n', 'How are you?\\n', 'Welcome to the learning journey of Python Programming.']\n"
     ]
    }
   ],
   "source": [
    "print(lines)"
   ]
  },
  {
   "cell_type": "code",
   "execution_count": 15,
   "id": "9dfa787f",
   "metadata": {},
   "outputs": [
    {
     "name": "stdout",
     "output_type": "stream",
     "text": [
      "Hello friends!\n",
      "\n",
      "How are you?\n",
      "\n",
      "Welcome to the learning journey of Python Programming.\n"
     ]
    }
   ],
   "source": [
    "for line in lines:\n",
    "    print(line)"
   ]
  },
  {
   "cell_type": "code",
   "execution_count": 16,
   "id": "9987bdb5",
   "metadata": {},
   "outputs": [
    {
     "name": "stdout",
     "output_type": "stream",
     "text": [
      "HELLO FRIENDS!\n",
      "\n",
      "HOW ARE YOU?\n",
      "\n",
      "WELCOME TO THE LEARNING JOURNEY OF PYTHON PROGRAMMING.\n"
     ]
    }
   ],
   "source": [
    "for line in lines:\n",
    "    print(line.upper())"
   ]
  },
  {
   "cell_type": "markdown",
   "id": "76a58389",
   "metadata": {},
   "source": [
    "#### 4. Read the contents as string"
   ]
  },
  {
   "cell_type": "code",
   "execution_count": 18,
   "id": "a5e01daa",
   "metadata": {},
   "outputs": [],
   "source": [
    "f = open('mydata.txt')\n",
    "s = f.read()"
   ]
  },
  {
   "cell_type": "code",
   "execution_count": 20,
   "id": "ccd0b333",
   "metadata": {},
   "outputs": [
    {
     "name": "stdout",
     "output_type": "stream",
     "text": [
      "Hello friends!\n",
      "How are you?\n",
      "Welcome to the learning journey of Python Programming.\n"
     ]
    }
   ],
   "source": [
    "print(s)"
   ]
  },
  {
   "cell_type": "code",
   "execution_count": 22,
   "id": "0d333dd3",
   "metadata": {},
   "outputs": [
    {
     "name": "stdout",
     "output_type": "stream",
     "text": [
      "HELLO FRIENDS!\n",
      "HOW ARE YOU?\n",
      "WELCOME TO THE LEARNING JOURNEY OF PYTHON PROGRAMMING.\n"
     ]
    }
   ],
   "source": [
    "print(s.upper())"
   ]
  },
  {
   "cell_type": "code",
   "execution_count": 23,
   "id": "6288629a",
   "metadata": {},
   "outputs": [
    {
     "name": "stdout",
     "output_type": "stream",
     "text": [
      "hello friends!\n",
      "how are you?\n",
      "welcome to the learning journey of python programming.\n"
     ]
    }
   ],
   "source": [
    "print(s.lower())"
   ]
  },
  {
   "cell_type": "markdown",
   "id": "78f3b9c1",
   "metadata": {},
   "source": [
    "#### Analyse a file"
   ]
  },
  {
   "cell_type": "code",
   "execution_count": 25,
   "id": "83a3760f",
   "metadata": {},
   "outputs": [],
   "source": [
    "# Read the file and count total number of 'the' in it"
   ]
  },
  {
   "cell_type": "code",
   "execution_count": 31,
   "id": "f05b06ec",
   "metadata": {},
   "outputs": [
    {
     "data": {
      "text/plain": [
       "13"
      ]
     },
     "execution_count": 31,
     "metadata": {},
     "output_type": "execute_result"
    }
   ],
   "source": [
    "f = open('nasa.txt')\n",
    "contents = f.read()    # Read the file\n",
    "words = contents.split()  # Converted the string to list of words\n",
    "words.count('the') + words.count('The')   # counted the number of 'the' in list"
   ]
  },
  {
   "cell_type": "markdown",
   "id": "1c41c80a",
   "metadata": {},
   "source": [
    "### Writing in a file"
   ]
  },
  {
   "cell_type": "code",
   "execution_count": 35,
   "id": "4af258df",
   "metadata": {},
   "outputs": [],
   "source": [
    "# open in writing mode\n",
    "f = open('sample.txt', 'w')\n",
    "# Not existing file will be created\n",
    "# Existing file will be overwritten"
   ]
  },
  {
   "cell_type": "code",
   "execution_count": 36,
   "id": "8220f7c5",
   "metadata": {},
   "outputs": [
    {
     "data": {
      "text/plain": [
       "<_io.TextIOWrapper name='sample.txt' mode='w' encoding='UTF-8'>"
      ]
     },
     "execution_count": 36,
     "metadata": {},
     "output_type": "execute_result"
    }
   ],
   "source": [
    "f"
   ]
  },
  {
   "cell_type": "markdown",
   "id": "53705366",
   "metadata": {},
   "source": [
    "#### 1. Check for writability"
   ]
  },
  {
   "cell_type": "code",
   "execution_count": 39,
   "id": "edb8d2d2",
   "metadata": {},
   "outputs": [
    {
     "data": {
      "text/plain": [
       "True"
      ]
     },
     "execution_count": 39,
     "metadata": {},
     "output_type": "execute_result"
    }
   ],
   "source": [
    "f.writable()"
   ]
  },
  {
   "cell_type": "markdown",
   "id": "9bf9c2f1",
   "metadata": {},
   "source": [
    "#### 2. Write the contents in a file"
   ]
  },
  {
   "cell_type": "code",
   "execution_count": 41,
   "id": "70acea1e",
   "metadata": {},
   "outputs": [],
   "source": [
    "f = open('sample.txt', 'w')\n",
    "f.write(\"Hello World\\n\")\n",
    "f.write('Good Bye.')\n",
    "f.close()"
   ]
  },
  {
   "cell_type": "code",
   "execution_count": 42,
   "id": "ea7eea2d",
   "metadata": {},
   "outputs": [
    {
     "name": "stdout",
     "output_type": "stream",
     "text": [
      "Hello World\n",
      "Good Bye.\n"
     ]
    }
   ],
   "source": [
    "f = open('sample.txt')\n",
    "print(f.read())"
   ]
  },
  {
   "cell_type": "markdown",
   "id": "8ad31504",
   "metadata": {},
   "source": [
    "#### 3. Write without closing"
   ]
  },
  {
   "cell_type": "code",
   "execution_count": 50,
   "id": "b3a91bcf",
   "metadata": {},
   "outputs": [],
   "source": [
    "with open('sample.txt', 'w') as f:\n",
    "    f.write(\"Hello World\\n\")\n",
    "    f.write('Welcome\\n')"
   ]
  },
  {
   "cell_type": "code",
   "execution_count": 51,
   "id": "6fb8fd0f",
   "metadata": {},
   "outputs": [
    {
     "name": "stdout",
     "output_type": "stream",
     "text": [
      "Hello World\n",
      "Welcome\n",
      "\n"
     ]
    }
   ],
   "source": [
    "f = open('sample.txt')\n",
    "print(f.read())"
   ]
  },
  {
   "cell_type": "code",
   "execution_count": 52,
   "id": "4edc1341",
   "metadata": {},
   "outputs": [],
   "source": [
    "with open('sample.txt', 'a') as f:\n",
    "    f.write(\"Enjoy learning Python\\n\")\n",
    "    f.write('Good Bye.')"
   ]
  },
  {
   "cell_type": "code",
   "execution_count": 53,
   "id": "12b4c950",
   "metadata": {},
   "outputs": [
    {
     "name": "stdout",
     "output_type": "stream",
     "text": [
      "Hello World\n",
      "Welcome\n",
      "Enjoy learning Python\n",
      "Good Bye.\n"
     ]
    }
   ],
   "source": [
    "f = open('sample.txt')\n",
    "print(f.read())"
   ]
  },
  {
   "cell_type": "code",
   "execution_count": null,
   "id": "34bf5724",
   "metadata": {},
   "outputs": [],
   "source": []
  }
 ],
 "metadata": {
  "kernelspec": {
   "display_name": "Python 3",
   "language": "python",
   "name": "python3"
  },
  "language_info": {
   "codemirror_mode": {
    "name": "ipython",
    "version": 3
   },
   "file_extension": ".py",
   "mimetype": "text/x-python",
   "name": "python",
   "nbconvert_exporter": "python",
   "pygments_lexer": "ipython3",
   "version": "3.8.10"
  }
 },
 "nbformat": 4,
 "nbformat_minor": 5
}
