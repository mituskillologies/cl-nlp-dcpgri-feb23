{
 "cells": [
  {
   "cell_type": "markdown",
   "id": "9674cba9",
   "metadata": {},
   "source": [
    "### Creating a class"
   ]
  },
  {
   "cell_type": "code",
   "execution_count": 3,
   "id": "52c2a194",
   "metadata": {},
   "outputs": [],
   "source": [
    "class Person:\n",
    "    def __init__(self):           # Constructor\n",
    "        self.name = 'Tushar'      # Instance variable / class variable\n",
    "        self.marks = 67.79\n",
    "    def show(self):               # Behaviour / Method / Function\n",
    "        print('Your Data:')\n",
    "        print(self.name, self.marks)"
   ]
  },
  {
   "cell_type": "markdown",
   "id": "12ffca9b",
   "metadata": {},
   "source": [
    "### Create the object"
   ]
  },
  {
   "cell_type": "code",
   "execution_count": 5,
   "id": "6bbafcec",
   "metadata": {},
   "outputs": [],
   "source": [
    "p1 = Person()   # p1 -> object of Person class"
   ]
  },
  {
   "cell_type": "code",
   "execution_count": 7,
   "id": "2c085064",
   "metadata": {},
   "outputs": [
    {
     "name": "stdout",
     "output_type": "stream",
     "text": [
      "Tushar 67.79\n"
     ]
    }
   ],
   "source": [
    "print(p1.name, p1.marks)"
   ]
  },
  {
   "cell_type": "code",
   "execution_count": 8,
   "id": "a4643bd1",
   "metadata": {},
   "outputs": [
    {
     "name": "stdout",
     "output_type": "stream",
     "text": [
      "Your Data:\n",
      "Tushar 67.79\n"
     ]
    }
   ],
   "source": [
    "p1.show()    # Method call"
   ]
  },
  {
   "cell_type": "code",
   "execution_count": 17,
   "id": "ed0bf268",
   "metadata": {},
   "outputs": [],
   "source": [
    "class Person:\n",
    "    def __init__(self,n,m=78):         \n",
    "        self.name = n\n",
    "        self.marks = m\n",
    "    def show(self):               # Behaviour / Method / Function\n",
    "        print('Your Data:')\n",
    "        print(self.name, self.marks)\n",
    "    def isFirstClass(self):\n",
    "        if self.marks >= 60:\n",
    "            print('First Class')\n",
    "        else:\n",
    "            print('No First Class')"
   ]
  },
  {
   "cell_type": "code",
   "execution_count": 18,
   "id": "7bf3da6c",
   "metadata": {},
   "outputs": [
    {
     "name": "stdout",
     "output_type": "stream",
     "text": [
      "Your Data:\n",
      "Anil 78\n",
      "First Class\n"
     ]
    }
   ],
   "source": [
    "p1 = Person('Anil')\n",
    "p1.show()\n",
    "p1.isFirstClass()"
   ]
  },
  {
   "cell_type": "code",
   "execution_count": 16,
   "id": "2c0cd133",
   "metadata": {},
   "outputs": [
    {
     "name": "stdout",
     "output_type": "stream",
     "text": [
      "Your Data:\n",
      "Sunil 56.67\n",
      "No First Class\n"
     ]
    }
   ],
   "source": [
    "p2 = Person('Sunil', 56.67)\n",
    "p2.show()\n",
    "p2.isFirstClass()"
   ]
  },
  {
   "cell_type": "code",
   "execution_count": 12,
   "id": "a575f1f2",
   "metadata": {},
   "outputs": [
    {
     "name": "stdout",
     "output_type": "stream",
     "text": [
      "Your Data:\n",
      "Sanjay 67.12\n"
     ]
    }
   ],
   "source": [
    "p1.name = 'Sanjay'\n",
    "p1.show()"
   ]
  },
  {
   "cell_type": "code",
   "execution_count": null,
   "id": "b0c17f92",
   "metadata": {},
   "outputs": [],
   "source": []
  }
 ],
 "metadata": {
  "kernelspec": {
   "display_name": "Python 3",
   "language": "python",
   "name": "python3"
  },
  "language_info": {
   "codemirror_mode": {
    "name": "ipython",
    "version": 3
   },
   "file_extension": ".py",
   "mimetype": "text/x-python",
   "name": "python",
   "nbconvert_exporter": "python",
   "pygments_lexer": "ipython3",
   "version": "3.8.10"
  }
 },
 "nbformat": 4,
 "nbformat_minor": 5
}
