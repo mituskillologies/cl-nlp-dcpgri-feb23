{
 "cells": [
  {
   "cell_type": "code",
   "execution_count": 1,
   "id": "0bb594bb",
   "metadata": {},
   "outputs": [],
   "source": [
    "# Dataset: SMSSpamCollection\n",
    "# Location: https://mitu.co.in/dataset"
   ]
  },
  {
   "cell_type": "markdown",
   "id": "d59deca0",
   "metadata": {},
   "source": [
    "### Import the necessary libraries"
   ]
  },
  {
   "cell_type": "code",
   "execution_count": 14,
   "id": "2e91c133",
   "metadata": {},
   "outputs": [],
   "source": [
    "import pandas as pd\n",
    "import seaborn as sns"
   ]
  },
  {
   "cell_type": "markdown",
   "id": "b72a225d",
   "metadata": {},
   "source": [
    "### Import the dataset"
   ]
  },
  {
   "cell_type": "code",
   "execution_count": 3,
   "id": "256513c9",
   "metadata": {},
   "outputs": [],
   "source": [
    "cols = ['label','text']"
   ]
  },
  {
   "cell_type": "code",
   "execution_count": 4,
   "id": "89639c86",
   "metadata": {},
   "outputs": [],
   "source": [
    "df = pd.read_csv('SMSSpamCollection', sep='\\t', names=cols)"
   ]
  },
  {
   "cell_type": "code",
   "execution_count": 5,
   "id": "6e9b0cd5",
   "metadata": {},
   "outputs": [
    {
     "data": {
      "text/html": [
       "<div>\n",
       "<style scoped>\n",
       "    .dataframe tbody tr th:only-of-type {\n",
       "        vertical-align: middle;\n",
       "    }\n",
       "\n",
       "    .dataframe tbody tr th {\n",
       "        vertical-align: top;\n",
       "    }\n",
       "\n",
       "    .dataframe thead th {\n",
       "        text-align: right;\n",
       "    }\n",
       "</style>\n",
       "<table border=\"1\" class=\"dataframe\">\n",
       "  <thead>\n",
       "    <tr style=\"text-align: right;\">\n",
       "      <th></th>\n",
       "      <th>label</th>\n",
       "      <th>text</th>\n",
       "    </tr>\n",
       "  </thead>\n",
       "  <tbody>\n",
       "    <tr>\n",
       "      <th>0</th>\n",
       "      <td>ham</td>\n",
       "      <td>Go until jurong point, crazy.. Available only ...</td>\n",
       "    </tr>\n",
       "    <tr>\n",
       "      <th>1</th>\n",
       "      <td>ham</td>\n",
       "      <td>Ok lar... Joking wif u oni...</td>\n",
       "    </tr>\n",
       "    <tr>\n",
       "      <th>2</th>\n",
       "      <td>spam</td>\n",
       "      <td>Free entry in 2 a wkly comp to win FA Cup fina...</td>\n",
       "    </tr>\n",
       "    <tr>\n",
       "      <th>3</th>\n",
       "      <td>ham</td>\n",
       "      <td>U dun say so early hor... U c already then say...</td>\n",
       "    </tr>\n",
       "    <tr>\n",
       "      <th>4</th>\n",
       "      <td>ham</td>\n",
       "      <td>Nah I don't think he goes to usf, he lives aro...</td>\n",
       "    </tr>\n",
       "  </tbody>\n",
       "</table>\n",
       "</div>"
      ],
      "text/plain": [
       "  label                                               text\n",
       "0   ham  Go until jurong point, crazy.. Available only ...\n",
       "1   ham                      Ok lar... Joking wif u oni...\n",
       "2  spam  Free entry in 2 a wkly comp to win FA Cup fina...\n",
       "3   ham  U dun say so early hor... U c already then say...\n",
       "4   ham  Nah I don't think he goes to usf, he lives aro..."
      ]
     },
     "execution_count": 5,
     "metadata": {},
     "output_type": "execute_result"
    }
   ],
   "source": [
    "df.head()"
   ]
  },
  {
   "cell_type": "markdown",
   "id": "a22cd4e4",
   "metadata": {},
   "source": [
    "### Separate the input and output data"
   ]
  },
  {
   "cell_type": "code",
   "execution_count": 6,
   "id": "84b81324",
   "metadata": {},
   "outputs": [],
   "source": [
    "# input data\n",
    "x = df['text']\n",
    "# output data\n",
    "y = df['label']"
   ]
  },
  {
   "cell_type": "code",
   "execution_count": 7,
   "id": "5445974b",
   "metadata": {},
   "outputs": [
    {
     "data": {
      "text/plain": [
       "(5572, 2)"
      ]
     },
     "execution_count": 7,
     "metadata": {},
     "output_type": "execute_result"
    }
   ],
   "source": [
    "df.shape"
   ]
  },
  {
   "cell_type": "code",
   "execution_count": 8,
   "id": "70bf9488",
   "metadata": {},
   "outputs": [
    {
     "data": {
      "text/plain": [
       "<AxesSubplot:xlabel='label', ylabel='count'>"
      ]
     },
     "execution_count": 8,
     "metadata": {},
     "output_type": "execute_result"
    },
    {
     "data": {
      "image/png": "[encoded data removed]",
      "text/plain": [
       "<Figure size 432x288 with 1 Axes>"
      ]
     },
     "metadata": {
      "needs_background": "light"
     },
     "output_type": "display_data"
    }
   ],
   "source": [
    "sns.countplot(x=df['label'])"
   ]
  },
  {
   "cell_type": "code",
   "execution_count": 9,
   "id": "312ae35d",
   "metadata": {},
   "outputs": [
    {
     "data": {
      "text/plain": [
       "ham     4825\n",
       "spam     747\n",
       "Name: label, dtype: int64"
      ]
     },
     "execution_count": 9,
     "metadata": {},
     "output_type": "execute_result"
    }
   ],
   "source": [
    "y.value_counts()"
   ]
  },
  {
   "cell_type": "markdown",
   "id": "eda20253",
   "metadata": {},
   "source": [
    "### Preprocessing Steps"
   ]
  },
  {
   "cell_type": "code",
   "execution_count": 10,
   "id": "e9090d5d",
   "metadata": {},
   "outputs": [],
   "source": [
    "from nltk.tokenize import word_tokenize\n",
    "from nltk.corpus import stopwords\n",
    "from nltk.stem import PorterStemmer"
   ]
  },
  {
   "cell_type": "markdown",
   "id": "4fc8ad16",
   "metadata": {},
   "source": [
    "#### Tokenization"
   ]
  },
  {
   "cell_type": "code",
   "execution_count": 11,
   "id": "55cbaea7",
   "metadata": {},
   "outputs": [],
   "source": [
    "sent = 'Hello friends! How are you? Enjoy learning Python.'"
   ]
  },
  {
   "cell_type": "code",
   "execution_count": 12,
   "id": "62a65417",
   "metadata": {},
   "outputs": [],
   "source": [
    "tokens1 = word_tokenize(sent)"
   ]
  },
  {
   "cell_type": "markdown",
   "id": "9b10564f",
   "metadata": {},
   "source": [
    "#### Remove punctuation symbols"
   ]
  },
  {
   "cell_type": "code",
   "execution_count": 13,
   "id": "94170539",
   "metadata": {},
   "outputs": [
    {
     "data": {
      "text/plain": [
       "['Hello', 'friends', 'How', 'are', 'you', 'Enjoy', 'learning', 'Python']"
      ]
     },
     "execution_count": 13,
     "metadata": {},
     "output_type": "execute_result"
    }
   ],
   "source": [
    "tokens2 = [x for x in tokens1 if x.isalpha() or x.isdigit()]\n",
    "tokens2"
   ]
  },
  {
   "cell_type": "markdown",
   "id": "44600cc5",
   "metadata": {},
   "source": [
    "#### Stopwords removal"
   ]
  },
  {
   "cell_type": "code",
   "execution_count": 17,
   "id": "7332051b",
   "metadata": {},
   "outputs": [],
   "source": [
    "swords = stopwords.words('english')"
   ]
  },
  {
   "cell_type": "code",
   "execution_count": 20,
   "id": "642bd762",
   "metadata": {},
   "outputs": [],
   "source": [
    "tokens3 = [x.lower() for x in tokens2 if x.lower() not in swords]"
   ]
  },
  {
   "cell_type": "code",
   "execution_count": 21,
   "id": "50cc57da",
   "metadata": {},
   "outputs": [
    {
     "data": {
      "text/plain": [
       "['hello', 'friends', 'enjoy', 'learning', 'python']"
      ]
     },
     "execution_count": 21,
     "metadata": {},
     "output_type": "execute_result"
    }
   ],
   "source": [
    "tokens3"
   ]
  },
  {
   "cell_type": "markdown",
   "id": "7de1fd0c",
   "metadata": {},
   "source": [
    "#### Remove the word stems"
   ]
  },
  {
   "cell_type": "code",
   "execution_count": 23,
   "id": "f43b2bfe",
   "metadata": {},
   "outputs": [],
   "source": [
    "ps = PorterStemmer()"
   ]
  },
  {
   "cell_type": "code",
   "execution_count": 24,
   "id": "cd8a4af8",
   "metadata": {},
   "outputs": [],
   "source": [
    "tokens4 = [ps.stem(x) for x in tokens3]"
   ]
  },
  {
   "cell_type": "code",
   "execution_count": 25,
   "id": "b0a8f735",
   "metadata": {},
   "outputs": [
    {
     "data": {
      "text/plain": [
       "['hello', 'friend', 'enjoy', 'learn', 'python']"
      ]
     },
     "execution_count": 25,
     "metadata": {},
     "output_type": "execute_result"
    }
   ],
   "source": [
    "tokens4"
   ]
  },
  {
   "cell_type": "markdown",
   "id": "fd846d8e",
   "metadata": {},
   "source": [
    "### Create a function for cleaning the text"
   ]
  },
  {
   "cell_type": "code",
   "execution_count": 28,
   "id": "e84cae51",
   "metadata": {},
   "outputs": [],
   "source": [
    "def clean_text(sent):\n",
    "    tokens1 = word_tokenize(sent)\n",
    "    tokens2 = [x for x in tokens1 if x.isalpha() or x.isdigit()]\n",
    "    tokens3 = [x.lower() for x in tokens2 if x.lower() not in swords]\n",
    "    tokens4 = [ps.stem(x) for x in tokens3]\n",
    "    return tokens4"
   ]
  },
  {
   "cell_type": "code",
   "execution_count": 29,
   "id": "65561b46",
   "metadata": {},
   "outputs": [
    {
     "data": {
      "text/plain": [
       "'Hello friends! How are you? Enjoy learning Python.'"
      ]
     },
     "execution_count": 29,
     "metadata": {},
     "output_type": "execute_result"
    }
   ],
   "source": [
    "sent"
   ]
  },
  {
   "cell_type": "code",
   "execution_count": 30,
   "id": "eeafe9b1",
   "metadata": {},
   "outputs": [
    {
     "data": {
      "text/plain": [
       "['hello', 'friend', 'enjoy', 'learn', 'python']"
      ]
     },
     "execution_count": 30,
     "metadata": {},
     "output_type": "execute_result"
    }
   ],
   "source": [
    "clean_text(sent)"
   ]
  },
  {
   "cell_type": "code",
   "execution_count": 31,
   "id": "9280c6bd",
   "metadata": {},
   "outputs": [],
   "source": [
    "sent1 = 'Wikipedia was launched by Jimmy Wales and Larry Sanger on January 15, 2001. Sanger coined its name as a blend of wiki and encyclopedia.'"
   ]
  },
  {
   "cell_type": "code",
   "execution_count": 32,
   "id": "16f080f8",
   "metadata": {},
   "outputs": [
    {
     "data": {
      "text/plain": [
       "['wikipedia',\n",
       " 'launch',\n",
       " 'jimmi',\n",
       " 'wale',\n",
       " 'larri',\n",
       " 'sanger',\n",
       " 'januari',\n",
       " '15',\n",
       " '2001',\n",
       " 'sanger',\n",
       " 'coin',\n",
       " 'name',\n",
       " 'blend',\n",
       " 'wiki',\n",
       " 'encyclopedia']"
      ]
     },
     "execution_count": 32,
     "metadata": {},
     "output_type": "execute_result"
    }
   ],
   "source": [
    "clean_text(sent1)"
   ]
  },
  {
   "cell_type": "code",
   "execution_count": 34,
   "id": "88fc330f",
   "metadata": {},
   "outputs": [
    {
     "data": {
      "text/plain": [
       "0       [go, jurong, point, crazi, avail, bugi, n, gre...\n",
       "1                            [ok, lar, joke, wif, u, oni]\n",
       "2       [free, entri, 2, wkli, comp, win, fa, cup, fin...\n",
       "3           [u, dun, say, earli, hor, u, c, alreadi, say]\n",
       "4            [nah, think, goe, usf, live, around, though]\n",
       "                              ...                        \n",
       "5567    [time, tri, 2, contact, u, pound, prize, 2, cl...\n",
       "5568                       [ü, b, go, esplanad, fr, home]\n",
       "5569                                [piti, mood, suggest]\n",
       "5570    [guy, bitch, act, like, interest, buy, someth,...\n",
       "5571                                   [rofl, true, name]\n",
       "Name: text, Length: 5572, dtype: object"
      ]
     },
     "execution_count": 34,
     "metadata": {},
     "output_type": "execute_result"
    }
   ],
   "source": [
    "x.apply(lambda a: clean_text(a))"
   ]
  },
  {
   "cell_type": "markdown",
   "id": "2779f8f2",
   "metadata": {},
   "source": [
    "#### Term Frequency"
   ]
  },
  {
   "cell_type": "code",
   "execution_count": 36,
   "id": "3bdc6313",
   "metadata": {},
   "outputs": [
    {
     "data": {
      "text/plain": [
       "['hello', 'friend', 'enjoy', 'learn', 'python']"
      ]
     },
     "execution_count": 36,
     "metadata": {},
     "output_type": "execute_result"
    }
   ],
   "source": [
    "clean_text(sent)"
   ]
  },
  {
   "cell_type": "code",
   "execution_count": 37,
   "id": "3d692611",
   "metadata": {},
   "outputs": [
    {
     "data": {
      "text/plain": [
       "0.2"
      ]
     },
     "execution_count": 37,
     "metadata": {},
     "output_type": "execute_result"
    }
   ],
   "source": [
    "1/5"
   ]
  },
  {
   "cell_type": "code",
   "execution_count": 38,
   "id": "9750f5a0",
   "metadata": {},
   "outputs": [
    {
     "data": {
      "text/plain": [
       "['wikipedia',\n",
       " 'launch',\n",
       " 'jimmi',\n",
       " 'wale',\n",
       " 'larri',\n",
       " 'sanger',\n",
       " 'januari',\n",
       " '15',\n",
       " '2001',\n",
       " 'sanger',\n",
       " 'coin',\n",
       " 'name',\n",
       " 'blend',\n",
       " 'wiki',\n",
       " 'encyclopedia']"
      ]
     },
     "execution_count": 38,
     "metadata": {},
     "output_type": "execute_result"
    }
   ],
   "source": [
    "clean_text(sent1)"
   ]
  },
  {
   "cell_type": "code",
   "execution_count": 39,
   "id": "4538de25",
   "metadata": {},
   "outputs": [
    {
     "data": {
      "text/plain": [
       "0.13333333333333333"
      ]
     },
     "execution_count": 39,
     "metadata": {},
     "output_type": "execute_result"
    }
   ],
   "source": [
    "2/15"
   ]
  },
  {
   "cell_type": "markdown",
   "id": "359b2d78",
   "metadata": {},
   "source": [
    "#### Inverse Document Frequency"
   ]
  },
  {
   "cell_type": "code",
   "execution_count": 41,
   "id": "5b5e0d19",
   "metadata": {},
   "outputs": [],
   "source": [
    "import numpy as np"
   ]
  },
  {
   "cell_type": "code",
   "execution_count": 42,
   "id": "18a7823c",
   "metadata": {},
   "outputs": [
    {
     "data": {
      "text/plain": [
       "2.017406150760383"
      ]
     },
     "execution_count": 42,
     "metadata": {},
     "output_type": "execute_result"
    }
   ],
   "source": [
    "np.log(1000/133)"
   ]
  },
  {
   "cell_type": "markdown",
   "id": "cb8568c7",
   "metadata": {},
   "source": [
    "### TF*IDF Vectorizer"
   ]
  },
  {
   "cell_type": "code",
   "execution_count": 44,
   "id": "5e64b1ed",
   "metadata": {},
   "outputs": [
    {
     "data": {
      "text/plain": [
       "(5572,)"
      ]
     },
     "execution_count": 44,
     "metadata": {},
     "output_type": "execute_result"
    }
   ],
   "source": [
    "x.shape"
   ]
  },
  {
   "cell_type": "code",
   "execution_count": 45,
   "id": "d40fdb79",
   "metadata": {},
   "outputs": [],
   "source": [
    "from sklearn.feature_extraction.text import TfidfVectorizer"
   ]
  },
  {
   "cell_type": "code",
   "execution_count": 46,
   "id": "ec280c07",
   "metadata": {},
   "outputs": [],
   "source": [
    "tfidf = TfidfVectorizer(analyzer=clean_text)"
   ]
  },
  {
   "cell_type": "code",
   "execution_count": 47,
   "id": "99abf007",
   "metadata": {},
   "outputs": [],
   "source": [
    "x_new = tfidf.fit_transform(x)"
   ]
  },
  {
   "cell_type": "code",
   "execution_count": 48,
   "id": "a686a35b",
   "metadata": {},
   "outputs": [
    {
     "data": {
      "text/plain": [
       "(5572, 6429)"
      ]
     },
     "execution_count": 48,
     "metadata": {},
     "output_type": "execute_result"
    }
   ],
   "source": [
    "x_new.shape"
   ]
  },
  {
   "cell_type": "code",
   "execution_count": 50,
   "id": "41e27343",
   "metadata": {},
   "outputs": [
    {
     "data": {
      "text/html": [
       "<div>\n",
       "<style scoped>\n",
       "    .dataframe tbody tr th:only-of-type {\n",
       "        vertical-align: middle;\n",
       "    }\n",
       "\n",
       "    .dataframe tbody tr th {\n",
       "        vertical-align: top;\n",
       "    }\n",
       "\n",
       "    .dataframe thead th {\n",
       "        text-align: right;\n",
       "    }\n",
       "</style>\n",
       "<table border=\"1\" class=\"dataframe\">\n",
       "  <thead>\n",
       "    <tr style=\"text-align: right;\">\n",
       "      <th></th>\n",
       "      <th>0</th>\n",
       "    </tr>\n",
       "  </thead>\n",
       "  <tbody>\n",
       "    <tr>\n",
       "      <th>0</th>\n",
       "      <td>(0, 6121)\\t0.1865677565026138\\n  (0, 686)\\t0...</td>\n",
       "    </tr>\n",
       "    <tr>\n",
       "      <th>1</th>\n",
       "      <td>(0, 4084)\\t0.5514643620986254\\n  (0, 5889)\\t...</td>\n",
       "    </tr>\n",
       "    <tr>\n",
       "      <th>2</th>\n",
       "      <td>(0, 754)\\t0.17606189161034486\\n  (0, 1247)\\t...</td>\n",
       "    </tr>\n",
       "    <tr>\n",
       "      <th>3</th>\n",
       "      <td>(0, 663)\\t0.2877362015312696\\n  (0, 2868)\\t0...</td>\n",
       "    </tr>\n",
       "    <tr>\n",
       "      <th>4</th>\n",
       "      <td>(0, 5679)\\t0.38520136747877337\\n  (0, 791)\\t...</td>\n",
       "    </tr>\n",
       "    <tr>\n",
       "      <th>...</th>\n",
       "      <td>...</td>\n",
       "    </tr>\n",
       "    <tr>\n",
       "      <th>5567</th>\n",
       "      <td>(0, 128)\\t0.4399593136391355\\n  (0, 2010)\\t0...</td>\n",
       "    </tr>\n",
       "    <tr>\n",
       "      <th>5568</th>\n",
       "      <td>(0, 2134)\\t0.5692865309624537\\n  (0, 2413)\\t...</td>\n",
       "    </tr>\n",
       "    <tr>\n",
       "      <th>5569</th>\n",
       "      <td>(0, 4322)\\t0.6374814122151056\\n  (0, 3773)\\t...</td>\n",
       "    </tr>\n",
       "    <tr>\n",
       "      <th>5570</th>\n",
       "      <td>(0, 1059)\\t0.3546749465287117\\n  (0, 555)\\t0...</td>\n",
       "    </tr>\n",
       "    <tr>\n",
       "      <th>5571</th>\n",
       "      <td>(0, 4792)\\t0.6948669752572904\\n  (0, 5840)\\t...</td>\n",
       "    </tr>\n",
       "  </tbody>\n",
       "</table>\n",
       "<p>5572 rows × 1 columns</p>\n",
       "</div>"
      ],
      "text/plain": [
       "                                                      0\n",
       "0       (0, 6121)\\t0.1865677565026138\\n  (0, 686)\\t0...\n",
       "1       (0, 4084)\\t0.5514643620986254\\n  (0, 5889)\\t...\n",
       "2       (0, 754)\\t0.17606189161034486\\n  (0, 1247)\\t...\n",
       "3       (0, 663)\\t0.2877362015312696\\n  (0, 2868)\\t0...\n",
       "4       (0, 5679)\\t0.38520136747877337\\n  (0, 791)\\t...\n",
       "...                                                 ...\n",
       "5567    (0, 128)\\t0.4399593136391355\\n  (0, 2010)\\t0...\n",
       "5568    (0, 2134)\\t0.5692865309624537\\n  (0, 2413)\\t...\n",
       "5569    (0, 4322)\\t0.6374814122151056\\n  (0, 3773)\\t...\n",
       "5570    (0, 1059)\\t0.3546749465287117\\n  (0, 555)\\t0...\n",
       "5571    (0, 4792)\\t0.6948669752572904\\n  (0, 5840)\\t...\n",
       "\n",
       "[5572 rows x 1 columns]"
      ]
     },
     "execution_count": 50,
     "metadata": {},
     "output_type": "execute_result"
    }
   ],
   "source": [
    "pd.DataFrame(x_new)"
   ]
  },
  {
   "cell_type": "markdown",
   "id": "bbeb4087",
   "metadata": {},
   "source": [
    "### Cross-Validation"
   ]
  },
  {
   "cell_type": "code",
   "execution_count": 52,
   "id": "59707dde",
   "metadata": {},
   "outputs": [
    {
     "data": {
      "text/plain": [
       "(5572, 6429)"
      ]
     },
     "execution_count": 52,
     "metadata": {},
     "output_type": "execute_result"
    }
   ],
   "source": [
    "x_new.shape"
   ]
  },
  {
   "cell_type": "code",
   "execution_count": 54,
   "id": "95f19961",
   "metadata": {},
   "outputs": [
    {
     "data": {
      "text/plain": [
       "(5572,)"
      ]
     },
     "execution_count": 54,
     "metadata": {},
     "output_type": "execute_result"
    }
   ],
   "source": [
    "y.shape"
   ]
  },
  {
   "cell_type": "code",
   "execution_count": 55,
   "id": "5aa5ba92",
   "metadata": {},
   "outputs": [],
   "source": [
    "from sklearn.model_selection import train_test_split"
   ]
  },
  {
   "cell_type": "code",
   "execution_count": 57,
   "id": "b8d7f1b6",
   "metadata": {},
   "outputs": [],
   "source": [
    "x_train, x_test, y_train, y_test = train_test_split(\n",
    "    x_new, y, random_state=0, test_size=0.25)"
   ]
  },
  {
   "cell_type": "code",
   "execution_count": 58,
   "id": "59ade9a2",
   "metadata": {},
   "outputs": [
    {
     "data": {
      "text/plain": [
       "(4179, 6429)"
      ]
     },
     "execution_count": 58,
     "metadata": {},
     "output_type": "execute_result"
    }
   ],
   "source": [
    "x_train.shape"
   ]
  },
  {
   "cell_type": "code",
   "execution_count": 59,
   "id": "44265287",
   "metadata": {},
   "outputs": [
    {
     "data": {
      "text/plain": [
       "(1393, 6429)"
      ]
     },
     "execution_count": 59,
     "metadata": {},
     "output_type": "execute_result"
    }
   ],
   "source": [
    "x_test.shape"
   ]
  },
  {
   "cell_type": "markdown",
   "id": "af33a54d",
   "metadata": {},
   "source": [
    "### Build the Machine Learning model"
   ]
  },
  {
   "cell_type": "code",
   "execution_count": 61,
   "id": "883c78fb",
   "metadata": {},
   "outputs": [],
   "source": [
    "# Import the machine learning class\n",
    "from sklearn.ensemble import RandomForestClassifier"
   ]
  },
  {
   "cell_type": "code",
   "execution_count": 62,
   "id": "35dbce97",
   "metadata": {},
   "outputs": [],
   "source": [
    "# Create the object\n",
    "model = RandomForestClassifier(random_state=0)"
   ]
  },
  {
   "cell_type": "code",
   "execution_count": 63,
   "id": "377ff600",
   "metadata": {},
   "outputs": [
    {
     "data": {
      "text/plain": [
       "RandomForestClassifier(random_state=0)"
      ]
     },
     "execution_count": 63,
     "metadata": {},
     "output_type": "execute_result"
    }
   ],
   "source": [
    "# Train the algorithm\n",
    "model.fit(x_train, y_train)"
   ]
  },
  {
   "cell_type": "markdown",
   "id": "50dee892",
   "metadata": {},
   "source": [
    "#### Predictions on test dataset"
   ]
  },
  {
   "cell_type": "code",
   "execution_count": 65,
   "id": "ce866b61",
   "metadata": {},
   "outputs": [],
   "source": [
    "y_pred = model.predict(x_test)"
   ]
  },
  {
   "cell_type": "code",
   "execution_count": 66,
   "id": "17f2b082",
   "metadata": {},
   "outputs": [
    {
     "data": {
      "text/plain": [
       "array(['ham', 'spam', 'ham', ..., 'spam', 'ham', 'ham'], dtype=object)"
      ]
     },
     "execution_count": 66,
     "metadata": {},
     "output_type": "execute_result"
    }
   ],
   "source": [
    "y_pred"
   ]
  },
  {
   "cell_type": "code",
   "execution_count": 68,
   "id": "4de48b76",
   "metadata": {},
   "outputs": [
    {
     "data": {
      "text/plain": [
       "1393"
      ]
     },
     "execution_count": 68,
     "metadata": {},
     "output_type": "execute_result"
    }
   ],
   "source": [
    "len(y_pred)"
   ]
  },
  {
   "cell_type": "code",
   "execution_count": 70,
   "id": "b34f78d6",
   "metadata": {},
   "outputs": [
    {
     "data": {
      "text/plain": [
       "97.63101220387652"
      ]
     },
     "execution_count": 70,
     "metadata": {},
     "output_type": "execute_result"
    }
   ],
   "source": [
    "from sklearn.metrics import accuracy_score\n",
    "accuracy_score(y_test, y_pred) * 100"
   ]
  },
  {
   "cell_type": "markdown",
   "id": "d0f54378",
   "metadata": {},
   "source": [
    "### Prediction on unseen data"
   ]
  },
  {
   "cell_type": "code",
   "execution_count": 72,
   "id": "fd113c97",
   "metadata": {},
   "outputs": [],
   "source": [
    "# Location: https://mitu.co.in/dataset\n",
    "# Dataset: sample.csv"
   ]
  },
  {
   "cell_type": "code",
   "execution_count": 73,
   "id": "0224a9ba",
   "metadata": {},
   "outputs": [],
   "source": [
    "df = pd.read_csv('sample.csv', sep='\\t', names=['text'])"
   ]
  },
  {
   "cell_type": "code",
   "execution_count": 74,
   "id": "a3f329da",
   "metadata": {},
   "outputs": [
    {
     "data": {
      "text/html": [
       "<div>\n",
       "<style scoped>\n",
       "    .dataframe tbody tr th:only-of-type {\n",
       "        vertical-align: middle;\n",
       "    }\n",
       "\n",
       "    .dataframe tbody tr th {\n",
       "        vertical-align: top;\n",
       "    }\n",
       "\n",
       "    .dataframe thead th {\n",
       "        text-align: right;\n",
       "    }\n",
       "</style>\n",
       "<table border=\"1\" class=\"dataframe\">\n",
       "  <thead>\n",
       "    <tr style=\"text-align: right;\">\n",
       "      <th></th>\n",
       "      <th>text</th>\n",
       "    </tr>\n",
       "  </thead>\n",
       "  <tbody>\n",
       "    <tr>\n",
       "      <th>0</th>\n",
       "      <td>Ok lar i double check wif da hair dresser alre...</td>\n",
       "    </tr>\n",
       "    <tr>\n",
       "      <th>1</th>\n",
       "      <td>As a valued customer, I am pleased to advise y...</td>\n",
       "    </tr>\n",
       "    <tr>\n",
       "      <th>2</th>\n",
       "      <td>Today is \"song dedicated day..\" Which song wil...</td>\n",
       "    </tr>\n",
       "  </tbody>\n",
       "</table>\n",
       "</div>"
      ],
      "text/plain": [
       "                                                text\n",
       "0  Ok lar i double check wif da hair dresser alre...\n",
       "1  As a valued customer, I am pleased to advise y...\n",
       "2  Today is \"song dedicated day..\" Which song wil..."
      ]
     },
     "execution_count": 74,
     "metadata": {},
     "output_type": "execute_result"
    }
   ],
   "source": [
    "df"
   ]
  },
  {
   "cell_type": "code",
   "execution_count": 77,
   "id": "dae569d1",
   "metadata": {},
   "outputs": [],
   "source": [
    "new = tfidf.transform(df['text'])"
   ]
  },
  {
   "cell_type": "code",
   "execution_count": 79,
   "id": "65d12ae5",
   "metadata": {},
   "outputs": [
    {
     "data": {
      "text/plain": [
       "array(['ham', 'spam', 'ham'], dtype=object)"
      ]
     },
     "execution_count": 79,
     "metadata": {},
     "output_type": "execute_result"
    }
   ],
   "source": [
    "model.predict(new)"
   ]
  },
  {
   "cell_type": "code",
   "execution_count": null,
   "id": "cac1d422",
   "metadata": {},
   "outputs": [],
   "source": []
  }
 ],
 "metadata": {
  "kernelspec": {
   "display_name": "Python 3",
   "language": "python",
   "name": "python3"
  },
  "language_info": {
   "codemirror_mode": {
    "name": "ipython",
    "version": 3
   },
   "file_extension": ".py",
   "mimetype": "text/x-python",
   "name": "python",
   "nbconvert_exporter": "python",
   "pygments_lexer": "ipython3",
   "version": "3.8.10"
  }
 },
 "nbformat": 4,
 "nbformat_minor": 5
}
