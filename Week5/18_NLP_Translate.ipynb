{
 "cells": [
  {
   "cell_type": "code",
   "execution_count": 2,
   "id": "98eb9535",
   "metadata": {},
   "outputs": [],
   "source": [
    "import goslate"
   ]
  },
  {
   "cell_type": "code",
   "execution_count": 3,
   "id": "74d2c0ad",
   "metadata": {},
   "outputs": [],
   "source": [
    "gs = goslate.Goslate()"
   ]
  },
  {
   "cell_type": "code",
   "execution_count": 4,
   "id": "5bbeff37",
   "metadata": {},
   "outputs": [],
   "source": [
    "text = 'Hello all. I am your teacher. I will teach this course.'"
   ]
  },
  {
   "cell_type": "code",
   "execution_count": 5,
   "id": "16f363d7",
   "metadata": {},
   "outputs": [],
   "source": [
    "translatedText = gs.translate(text,'mr')"
   ]
  },
  {
   "cell_type": "code",
   "execution_count": 6,
   "id": "4a84562d",
   "metadata": {},
   "outputs": [
    {
     "data": {
      "text/plain": [
       "'सर्वांना नमस्कार. मी तुमचा शिक्षक आहे. मी हा कोर्स शिकवीन.'"
      ]
     },
     "execution_count": 6,
     "metadata": {},
     "output_type": "execute_result"
    }
   ],
   "source": [
    "translatedText"
   ]
  },
  {
   "cell_type": "code",
   "execution_count": 9,
   "id": "071b363a",
   "metadata": {},
   "outputs": [],
   "source": [
    "translatedText = gs.translate(text,'ur')"
   ]
  },
  {
   "cell_type": "code",
   "execution_count": 10,
   "id": "ea4bf49f",
   "metadata": {},
   "outputs": [
    {
     "data": {
      "text/plain": [
       "'سب کو ہیلو. میں آپ کا استاد ہوں۔ میں یہ کورس سکھاؤں گا۔'"
      ]
     },
     "execution_count": 10,
     "metadata": {},
     "output_type": "execute_result"
    }
   ],
   "source": [
    "translatedText"
   ]
  },
  {
   "cell_type": "code",
   "execution_count": null,
   "id": "50bb8959",
   "metadata": {},
   "outputs": [],
   "source": []
  }
 ],
 "metadata": {
  "kernelspec": {
   "display_name": "Python 3",
   "language": "python",
   "name": "python3"
  },
  "language_info": {
   "codemirror_mode": {
    "name": "ipython",
    "version": 3
   },
   "file_extension": ".py",
   "mimetype": "text/x-python",
   "name": "python",
   "nbconvert_exporter": "python",
   "pygments_lexer": "ipython3",
   "version": "3.8.10"
  }
 },
 "nbformat": 4,
 "nbformat_minor": 5
}
