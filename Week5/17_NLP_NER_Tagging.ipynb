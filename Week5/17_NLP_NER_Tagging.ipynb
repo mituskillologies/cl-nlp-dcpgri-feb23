{
  "nbformat": 4,
  "nbformat_minor": 0,
  "metadata": {
    "colab": {
      "provenance": []
    },
    "kernelspec": {
      "name": "python3",
      "display_name": "Python 3"
    },
    "language_info": {
      "name": "python"
    }
  },
  "cells": [
    {
      "cell_type": "code",
      "execution_count": null,
      "metadata": {
        "colab": {
          "base_uri": "https://localhost:8080/"
        },
        "id": "jQO39Kozlr2u",
        "outputId": "e0007de4-c7cf-4db4-d613-a6408b9e1dc2"
      },
      "outputs": [
        {
          "output_type": "stream",
          "name": "stderr",
          "text": [
            "/usr/local/lib/python3.9/dist-packages/torch/cuda/__init__.py:497: UserWarning: Can't initialize NVML\n",
            "  warnings.warn(\"Can't initialize NVML\")\n"
          ]
        }
      ],
      "source": [
        "import spacy"
      ]
    },
    {
      "cell_type": "code",
      "source": [
        "nlp = spacy.load('en_core_web_sm')"
      ],
      "metadata": {
        "id": "3xQSqIEsmll6"
      },
      "execution_count": null,
      "outputs": []
    },
    {
      "cell_type": "code",
      "source": [
        "sent= '''Narendra Modi will meet Facebook CEO Mark Zukerberg in \n",
        "            New York for $71 million deal in March 2023'''"
      ],
      "metadata": {
        "id": "qBVlMAkDmv0P"
      },
      "execution_count": null,
      "outputs": []
    },
    {
      "cell_type": "code",
      "source": [
        "text = nlp(sent)"
      ],
      "metadata": {
        "id": "9zQQE2bTnAYw"
      },
      "execution_count": null,
      "outputs": []
    },
    {
      "cell_type": "code",
      "source": [
        "for ent in text.ents:\n",
        "  print(ent.text, ent.label_)"
      ],
      "metadata": {
        "colab": {
          "base_uri": "https://localhost:8080/"
        },
        "id": "iwt2j8R1nlfG",
        "outputId": "bae89ee4-bd61-4921-e74a-e09de6381f8b"
      },
      "execution_count": null,
      "outputs": [
        {
          "output_type": "stream",
          "name": "stdout",
          "text": [
            "Narendra Modi PERSON\n",
            "Facebook ORG\n",
            "Mark Zukerberg PERSON\n",
            "New York GPE\n",
            "$71 million MONEY\n",
            "March 2023 DATE\n"
          ]
        }
      ]
    },
    {
      "cell_type": "code",
      "source": [],
      "metadata": {
        "id": "DwYrI7_unyuh"
      },
      "execution_count": null,
      "outputs": []
    }
  ]
}