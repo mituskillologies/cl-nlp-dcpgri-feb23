{
 "cells": [
  {
   "cell_type": "markdown",
   "id": "42fe56a6",
   "metadata": {},
   "source": [
    "### Text to speech"
   ]
  },
  {
   "cell_type": "code",
   "execution_count": 2,
   "id": "8263cc25",
   "metadata": {},
   "outputs": [],
   "source": [
    "from gtts import gTTS                  # class\n",
    "from playsound import playsound        # method"
   ]
  },
  {
   "cell_type": "code",
   "execution_count": 8,
   "id": "3480f409",
   "metadata": {},
   "outputs": [],
   "source": [
    "tts = gTTS(text='Hello friends, how are you?', lang='en')"
   ]
  },
  {
   "cell_type": "code",
   "execution_count": 7,
   "id": "eb9d2f91",
   "metadata": {},
   "outputs": [],
   "source": [
    "tts.save('speech.mp3')\n",
    "playsound('speech.mp3')"
   ]
  },
  {
   "cell_type": "code",
   "execution_count": 9,
   "id": "a01450a2",
   "metadata": {},
   "outputs": [],
   "source": [
    "tts = gTTS(text='नमस्कार, तुमच्या सर्वांचं मितू स्किलॉलॉजिस तर्फे स्वागत आहे.', \n",
    "           lang='mr')"
   ]
  },
  {
   "cell_type": "code",
   "execution_count": 10,
   "id": "d2b5a0c3",
   "metadata": {},
   "outputs": [],
   "source": [
    "tts.save('speech.mp3')\n",
    "playsound('speech.mp3')"
   ]
  },
  {
   "cell_type": "markdown",
   "id": "af6a7b08",
   "metadata": {},
   "source": [
    "### Speech to text"
   ]
  },
  {
   "cell_type": "code",
   "execution_count": 12,
   "id": "c99fa713",
   "metadata": {},
   "outputs": [],
   "source": [
    "import speech_recognition as sr"
   ]
  },
  {
   "cell_type": "code",
   "execution_count": 13,
   "id": "06c56fe5",
   "metadata": {},
   "outputs": [],
   "source": [
    "# get audio from the microphone              \n",
    "r = sr.Recognizer()  "
   ]
  },
  {
   "cell_type": "code",
   "execution_count": 14,
   "id": "9efb4f2d",
   "metadata": {},
   "outputs": [
    {
     "name": "stdout",
     "output_type": "stream",
     "text": [
      "Speak:\n",
      "You said: hello friends welcome to the Python programming\n"
     ]
    }
   ],
   "source": [
    "with sr.Microphone() as source:\n",
    "    print('Speak:')\n",
    "    audio = r.listen(source)\n",
    "    print('You said:', r.recognize_google(audio))"
   ]
  },
  {
   "cell_type": "code",
   "execution_count": null,
   "id": "ee5a20b0",
   "metadata": {},
   "outputs": [],
   "source": []
  }
 ],
 "metadata": {
  "kernelspec": {
   "display_name": "Python 3",
   "language": "python",
   "name": "python3"
  },
  "language_info": {
   "codemirror_mode": {
    "name": "ipython",
    "version": 3
   },
   "file_extension": ".py",
   "mimetype": "text/x-python",
   "name": "python",
   "nbconvert_exporter": "python",
   "pygments_lexer": "ipython3",
   "version": "3.8.10"
  }
 },
 "nbformat": 4,
 "nbformat_minor": 5
}
