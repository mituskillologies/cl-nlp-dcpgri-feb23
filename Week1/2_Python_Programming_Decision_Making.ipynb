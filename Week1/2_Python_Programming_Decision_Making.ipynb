{
 "cells": [
  {
   "cell_type": "markdown",
   "id": "ac64b711",
   "metadata": {},
   "source": [
    "### if statement"
   ]
  },
  {
   "cell_type": "code",
   "execution_count": 5,
   "id": "aaea59d4",
   "metadata": {},
   "outputs": [
    {
     "name": "stdout",
     "output_type": "stream",
     "text": [
      "Enter the number: 56\n",
      "Number is positive!\n",
      "Good Bye!\n"
     ]
    }
   ],
   "source": [
    "# Read a number from user and check the number is positive\n",
    "\n",
    "num = int(input('Enter the number: '))\n",
    "\n",
    "if num > 0:\n",
    "    print('Number is positive!')\n",
    "    print('Good Bye!')"
   ]
  },
  {
   "cell_type": "markdown",
   "id": "fcbd0aff",
   "metadata": {},
   "source": [
    "### if - else statement"
   ]
  },
  {
   "cell_type": "code",
   "execution_count": 9,
   "id": "4a75c10f",
   "metadata": {},
   "outputs": [
    {
     "name": "stdout",
     "output_type": "stream",
     "text": [
      "Enter the number: 56\n",
      "Number is positive!\n",
      "Done\n"
     ]
    }
   ],
   "source": [
    "# Read a number from user and check the number is positive or negative\n",
    "\n",
    "num = int(input('Enter the number: '))\n",
    "\n",
    "if num > 0:\n",
    "    print('Number is positive!')\n",
    "else:\n",
    "    print('Number is negative!')\n",
    "    \n",
    "print('Done')"
   ]
  },
  {
   "cell_type": "markdown",
   "id": "e9544d6f",
   "metadata": {},
   "source": [
    "### if - elif - else "
   ]
  },
  {
   "cell_type": "code",
   "execution_count": 11,
   "id": "cb2c6997",
   "metadata": {},
   "outputs": [
    {
     "name": "stdout",
     "output_type": "stream",
     "text": [
      "Enter the number: 0\n",
      "It is ZERO\n"
     ]
    }
   ],
   "source": [
    "# Read a number from user and check the number is positive or negative\n",
    "\n",
    "num = int(input('Enter the number: '))\n",
    "\n",
    "if num > 0:               # Compulsory, Condition, Non-repeatable\n",
    "    print('Number is positive!')\n",
    "elif num == 0:            # Optional, Condition, Repeatable\n",
    "    print('It is ZERO')\n",
    "else:                     # Optional, No-condition, Non-repeatable\n",
    "    print('Number is negative!')"
   ]
  },
  {
   "cell_type": "markdown",
   "id": "3d00d3d7",
   "metadata": {},
   "source": [
    "### String methods in if"
   ]
  },
  {
   "cell_type": "code",
   "execution_count": 14,
   "id": "eae9512f",
   "metadata": {},
   "outputs": [
    {
     "name": "stdout",
     "output_type": "stream",
     "text": [
      "Enter the word: tushar\n",
      "It is lower case\n"
     ]
    }
   ],
   "source": [
    "word = input('Enter the word: ')\n",
    "\n",
    "if word.isupper():\n",
    "    print('It is upper case')\n",
    "elif word.islower():\n",
    "    print('It is lower case')\n",
    "elif word.istitle():\n",
    "    print('It is title case')\n",
    "else:\n",
    "    print('No matching case')"
   ]
  },
  {
   "cell_type": "code",
   "execution_count": 18,
   "id": "89fa0b31",
   "metadata": {},
   "outputs": [
    {
     "name": "stdout",
     "output_type": "stream",
     "text": [
      "Enter the number: 6\n",
      "Number is Even!\n"
     ]
    }
   ],
   "source": [
    "num = int(input('Enter the number: '))\n",
    "\n",
    "if num % 2 == 0:               \n",
    "    print('Number is Even!')\n",
    "else:                     \n",
    "    print('Number is Odd!')"
   ]
  },
  {
   "cell_type": "markdown",
   "id": "1f4bd605",
   "metadata": {},
   "source": [
    "### Nesting of if"
   ]
  },
  {
   "cell_type": "code",
   "execution_count": 22,
   "id": "9866e44e",
   "metadata": {},
   "outputs": [
    {
     "name": "stdout",
     "output_type": "stream",
     "text": [
      "Enter the character: y\n",
      "NO\n"
     ]
    }
   ],
   "source": [
    "# Check whether the character is between 'e' to 'n'\n",
    "\n",
    "char = input('Enter the character: ')\n",
    "\n",
    "if char >= 'e':\n",
    "    if char <= 'n':\n",
    "        print('Yes')\n",
    "    else:\n",
    "        print('NO')\n",
    "else:\n",
    "    print('NO')"
   ]
  },
  {
   "cell_type": "markdown",
   "id": "ed290677",
   "metadata": {},
   "source": [
    "### and operator"
   ]
  },
  {
   "cell_type": "code",
   "execution_count": 27,
   "id": "8e953497",
   "metadata": {},
   "outputs": [
    {
     "name": "stdout",
     "output_type": "stream",
     "text": [
      "Enter the character: z\n",
      "NO\n"
     ]
    }
   ],
   "source": [
    "# Check whether the character is between 'e' to 'n'\n",
    "\n",
    "char = input('Enter the character: ')\n",
    "\n",
    "if char >= 'e' and  char <= 'n':\n",
    "    print('Yes')\n",
    "else:\n",
    "    print('NO')"
   ]
  },
  {
   "cell_type": "code",
   "execution_count": 31,
   "id": "f9aea150",
   "metadata": {},
   "outputs": [
    {
     "name": "stdout",
     "output_type": "stream",
     "text": [
      "Enter the sentence: Hello friends\n",
      "Yes\n"
     ]
    }
   ],
   "source": [
    "# Read a sentence and check whether 'hello' is present in it\n",
    "\n",
    "sent = input('Enter the sentence: ')\n",
    "\n",
    "if 'hello' in sent.lower():\n",
    "    print('Yes')\n",
    "else:\n",
    "    print('NO')"
   ]
  },
  {
   "cell_type": "code",
   "execution_count": null,
   "id": "a46a4640",
   "metadata": {},
   "outputs": [],
   "source": []
  }
 ],
 "metadata": {
  "kernelspec": {
   "display_name": "Python 3",
   "language": "python",
   "name": "python3"
  },
  "language_info": {
   "codemirror_mode": {
    "name": "ipython",
    "version": 3
   },
   "file_extension": ".py",
   "mimetype": "text/x-python",
   "name": "python",
   "nbconvert_exporter": "python",
   "pygments_lexer": "ipython3",
   "version": "3.8.10"
  }
 },
 "nbformat": 4,
 "nbformat_minor": 5
}
