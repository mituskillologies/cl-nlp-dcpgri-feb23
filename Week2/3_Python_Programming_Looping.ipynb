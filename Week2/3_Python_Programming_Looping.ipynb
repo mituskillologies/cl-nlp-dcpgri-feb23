{
 "cells": [
  {
   "cell_type": "markdown",
   "id": "815520b1",
   "metadata": {},
   "source": [
    "### while loop"
   ]
  },
  {
   "cell_type": "code",
   "execution_count": 2,
   "id": "4ac42c43",
   "metadata": {},
   "outputs": [
    {
     "name": "stdout",
     "output_type": "stream",
     "text": [
      "Tushar\n",
      "Tushar\n",
      "Tushar\n",
      "Tushar\n",
      "Tushar\n",
      "Tushar\n",
      "Tushar\n",
      "Tushar\n",
      "Tushar\n",
      "Tushar\n"
     ]
    }
   ],
   "source": [
    "count = 0\n",
    "while count < 10:\n",
    "    print('Tushar')\n",
    "    count += 1"
   ]
  },
  {
   "cell_type": "code",
   "execution_count": 3,
   "id": "cf5e2367",
   "metadata": {},
   "outputs": [
    {
     "name": "stdout",
     "output_type": "stream",
     "text": [
      "Tushar\n",
      "Tushar\n",
      "Tushar\n",
      "Tushar\n",
      "Tushar\n"
     ]
    }
   ],
   "source": [
    "count = 0\n",
    "while count < 10:\n",
    "    print('Tushar')\n",
    "    count += 2"
   ]
  },
  {
   "cell_type": "code",
   "execution_count": 6,
   "id": "2aea5b7c",
   "metadata": {},
   "outputs": [
    {
     "name": "stdout",
     "output_type": "stream",
     "text": [
      "Addition is: 55\n"
     ]
    }
   ],
   "source": [
    "# Find the addition of first 10 natural numbers\n",
    "\n",
    "num = 1\n",
    "add = 0\n",
    "while num <= 10:\n",
    "    add = add + num\n",
    "    num += 1\n",
    "    \n",
    "print('Addition is:', add)"
   ]
  },
  {
   "cell_type": "code",
   "execution_count": 8,
   "id": "c860d580",
   "metadata": {},
   "outputs": [
    {
     "name": "stdout",
     "output_type": "stream",
     "text": [
      "Addition is: 100\n"
     ]
    }
   ],
   "source": [
    "# Find the addition of first 10 odd numbers\n",
    "\n",
    "num = 1\n",
    "add = 0\n",
    "while num <= 20:\n",
    "    add = add + num\n",
    "    num += 2\n",
    "    \n",
    "print('Addition is:', add)\n"
   ]
  },
  {
   "cell_type": "code",
   "execution_count": 10,
   "id": "174972d0",
   "metadata": {},
   "outputs": [
    {
     "name": "stdout",
     "output_type": "stream",
     "text": [
      "Enter the number: 12\n",
      "Factorial is: 479001600\n"
     ]
    }
   ],
   "source": [
    "# Find the factorial of the number \n",
    "# 5! = 5 * 4 * 2 * 3 * 1\n",
    "\n",
    "num = int(input('Enter the number: '))\n",
    "\n",
    "fact = 1\n",
    "while num > 1:\n",
    "    fact = fact * num\n",
    "    num -= 1\n",
    "\n",
    "print('Factorial is:', fact)"
   ]
  },
  {
   "cell_type": "code",
   "execution_count": 11,
   "id": "49449695",
   "metadata": {},
   "outputs": [
    {
     "name": "stdout",
     "output_type": "stream",
     "text": [
      "Addition is: 55\n"
     ]
    }
   ],
   "source": [
    "# Find the addition of first 10 natural numbers\n",
    "\n",
    "num = 1\n",
    "add = 0\n",
    "while num <= 10:\n",
    "    add = add + num\n",
    "    num += 1\n",
    "else:   \n",
    "    print('Addition is:', add)"
   ]
  },
  {
   "cell_type": "markdown",
   "id": "8968ccf9",
   "metadata": {},
   "source": [
    "### for loop"
   ]
  },
  {
   "cell_type": "code",
   "execution_count": 13,
   "id": "b5a2dcc4",
   "metadata": {},
   "outputs": [
    {
     "name": "stdout",
     "output_type": "stream",
     "text": [
      "34\n",
      "12\n",
      "99\n",
      "31\n",
      "48\n"
     ]
    }
   ],
   "source": [
    "for n in 34, 12, 99, 31, 48:\n",
    "    print(n)"
   ]
  },
  {
   "cell_type": "code",
   "execution_count": 14,
   "id": "1d3da0a1",
   "metadata": {},
   "outputs": [
    {
     "name": "stdout",
     "output_type": "stream",
     "text": [
      "1156\n",
      "144\n",
      "9801\n",
      "961\n",
      "2304\n"
     ]
    }
   ],
   "source": [
    "for n in 34, 12, 99, 31, 48:\n",
    "    print(n * n)"
   ]
  },
  {
   "cell_type": "code",
   "execution_count": 16,
   "id": "3a8ebf1c",
   "metadata": {},
   "outputs": [
    {
     "name": "stdout",
     "output_type": "stream",
     "text": [
      "34.7\n",
      "Hello\n",
      "99\n",
      "12.09\n",
      "48\n"
     ]
    }
   ],
   "source": [
    "for i in 34.7, 'Hello', 99, 12.09, 48:\n",
    "    print(i)"
   ]
  },
  {
   "cell_type": "code",
   "execution_count": 18,
   "id": "dc32762b",
   "metadata": {},
   "outputs": [
    {
     "name": "stdout",
     "output_type": "stream",
     "text": [
      "TTTTTTTTTTTTTTTTTTTTTTTTTTTTTTTTTTTTTTTTTTTTTTTTTT\n",
      "uuuuuuuuuuuuuuuuuuuuuuuuuuuuuuuuuuuuuuuuuuuuuuuuuu\n",
      "ssssssssssssssssssssssssssssssssssssssssssssssssss\n",
      "hhhhhhhhhhhhhhhhhhhhhhhhhhhhhhhhhhhhhhhhhhhhhhhhhh\n",
      "aaaaaaaaaaaaaaaaaaaaaaaaaaaaaaaaaaaaaaaaaaaaaaaaaa\n",
      "rrrrrrrrrrrrrrrrrrrrrrrrrrrrrrrrrrrrrrrrrrrrrrrrrr\n"
     ]
    }
   ],
   "source": [
    "for c in 'Tushar':\n",
    "    print(c * 50)"
   ]
  },
  {
   "cell_type": "code",
   "execution_count": 19,
   "id": "c3828bfa",
   "metadata": {},
   "outputs": [
    {
     "name": "stdout",
     "output_type": "stream",
     "text": [
      "TX\n",
      "uX\n",
      "sX\n",
      "hX\n",
      "aX\n",
      "rX\n"
     ]
    }
   ],
   "source": [
    "for c in 'Tushar':\n",
    "    print(c + 'X')"
   ]
  },
  {
   "cell_type": "code",
   "execution_count": 20,
   "id": "7c81c462",
   "metadata": {},
   "outputs": [
    {
     "name": "stdout",
     "output_type": "stream",
     "text": [
      "AJAY\n",
      "SITA\n",
      "AKSHAY\n",
      "JEEVAN\n",
      "RAM\n"
     ]
    }
   ],
   "source": [
    "for s in 'Ajay','Sita','Akshay','Jeevan','Ram':\n",
    "    print(s.upper())"
   ]
  },
  {
   "cell_type": "code",
   "execution_count": 21,
   "id": "3b3d5d3f",
   "metadata": {},
   "outputs": [
    {
     "name": "stdout",
     "output_type": "stream",
     "text": [
      "Ajay\n",
      "Akshay\n"
     ]
    }
   ],
   "source": [
    "for s in 'Ajay','Sita','Akshay','Jeevan','Ram':\n",
    "    if s.startswith('A'):\n",
    "        print(s)"
   ]
  },
  {
   "cell_type": "code",
   "execution_count": 22,
   "id": "d23e0f60",
   "metadata": {},
   "outputs": [
    {
     "name": "stdout",
     "output_type": "stream",
     "text": [
      "AJAY SITA AKSHAY JEEVAN RAM "
     ]
    }
   ],
   "source": [
    "for s in 'Ajay','Sita','Akshay','Jeevan','Ram':\n",
    "    print(s.upper(), end=' ')"
   ]
  },
  {
   "cell_type": "markdown",
   "id": "90a1f906",
   "metadata": {},
   "source": [
    "### Range function"
   ]
  },
  {
   "cell_type": "code",
   "execution_count": 25,
   "id": "fd112818",
   "metadata": {},
   "outputs": [
    {
     "data": {
      "text/plain": [
       "[0, 1, 2, 3, 4, 5, 6, 7, 8, 9]"
      ]
     },
     "execution_count": 25,
     "metadata": {},
     "output_type": "execute_result"
    }
   ],
   "source": [
    "list(range(10))"
   ]
  },
  {
   "cell_type": "code",
   "execution_count": 26,
   "id": "ad281e70",
   "metadata": {},
   "outputs": [
    {
     "data": {
      "text/plain": [
       "[4, 5, 6, 7, 8, 9]"
      ]
     },
     "execution_count": 26,
     "metadata": {},
     "output_type": "execute_result"
    }
   ],
   "source": [
    "list(range(4,10))"
   ]
  },
  {
   "cell_type": "code",
   "execution_count": 27,
   "id": "f5a62981",
   "metadata": {},
   "outputs": [
    {
     "data": {
      "text/plain": [
       "[4, 6, 8, 10, 12, 14]"
      ]
     },
     "execution_count": 27,
     "metadata": {},
     "output_type": "execute_result"
    }
   ],
   "source": [
    "list(range(4,15,2))"
   ]
  },
  {
   "cell_type": "code",
   "execution_count": 28,
   "id": "d6a679af",
   "metadata": {},
   "outputs": [
    {
     "data": {
      "text/plain": [
       "[15, 13, 11, 9, 7, 5]"
      ]
     },
     "execution_count": 28,
     "metadata": {},
     "output_type": "execute_result"
    }
   ],
   "source": [
    "list(range(15,4,-2))"
   ]
  },
  {
   "cell_type": "code",
   "execution_count": 29,
   "id": "3994d354",
   "metadata": {},
   "outputs": [
    {
     "name": "stdout",
     "output_type": "stream",
     "text": [
      "0\n",
      "1\n",
      "2\n",
      "3\n",
      "4\n"
     ]
    }
   ],
   "source": [
    "for x in range(5):\n",
    "    print(x)"
   ]
  },
  {
   "cell_type": "code",
   "execution_count": 30,
   "id": "8655fae1",
   "metadata": {},
   "outputs": [
    {
     "name": "stdout",
     "output_type": "stream",
     "text": [
      "Tushar\n",
      "Tushar\n",
      "Tushar\n",
      "Tushar\n",
      "Tushar\n",
      "Tushar\n",
      "Tushar\n",
      "Tushar\n",
      "Tushar\n",
      "Tushar\n"
     ]
    }
   ],
   "source": [
    "# print your name 10 times using for loop\n",
    "\n",
    "for i in range(10):\n",
    "    print('Tushar')"
   ]
  },
  {
   "cell_type": "code",
   "execution_count": 31,
   "id": "e43dbd4e",
   "metadata": {},
   "outputs": [
    {
     "name": "stdout",
     "output_type": "stream",
     "text": [
      "Addition: 55\n"
     ]
    }
   ],
   "source": [
    "# Find the addition of first 10 natural numbers\n",
    "\n",
    "add = 0\n",
    "for i in range(1,11):\n",
    "    add = add + i\n",
    "    \n",
    "print('Addition:', add)"
   ]
  },
  {
   "cell_type": "code",
   "execution_count": 32,
   "id": "68ca6d95",
   "metadata": {},
   "outputs": [
    {
     "name": "stdout",
     "output_type": "stream",
     "text": [
      "Addition: 100\n"
     ]
    }
   ],
   "source": [
    "# Find the addition of first 10 odd numbers\n",
    "\n",
    "add = 0\n",
    "for i in range(1,20,2):\n",
    "    add = add + i\n",
    "    \n",
    "print('Addition:', add)"
   ]
  },
  {
   "cell_type": "code",
   "execution_count": 33,
   "id": "cc4f8bff",
   "metadata": {},
   "outputs": [
    {
     "name": "stdout",
     "output_type": "stream",
     "text": [
      "Enter the number: 5\n",
      "Factorial: 120\n"
     ]
    }
   ],
   "source": [
    "# Find the factorial of the number \n",
    "# 5! = 5 * 4 * 2 * 3 * 1\n",
    "\n",
    "num = int(input('Enter the number: '))\n",
    "fact = 1\n",
    "\n",
    "for i in range(1, num+1):\n",
    "    fact = fact * i\n",
    "\n",
    "print('Factorial:', fact)"
   ]
  },
  {
   "cell_type": "code",
   "execution_count": 35,
   "id": "af26c6b8",
   "metadata": {},
   "outputs": [
    {
     "data": {
      "text/plain": [
       "[1, 2, 3, 4, 5]"
      ]
     },
     "execution_count": 35,
     "metadata": {},
     "output_type": "execute_result"
    }
   ],
   "source": [
    "list(range(1,5+1))"
   ]
  },
  {
   "cell_type": "markdown",
   "id": "f9a55ae6",
   "metadata": {},
   "source": [
    "### break statement"
   ]
  },
  {
   "cell_type": "code",
   "execution_count": 38,
   "id": "28eac79a",
   "metadata": {},
   "outputs": [
    {
     "name": "stdout",
     "output_type": "stream",
     "text": [
      "0\n",
      "1\n",
      "2\n",
      "3\n",
      "4\n"
     ]
    }
   ],
   "source": [
    "for x in range(10):\n",
    "    if x == 5:\n",
    "        break\n",
    "    print(x)"
   ]
  },
  {
   "cell_type": "markdown",
   "id": "b85b261b",
   "metadata": {},
   "source": [
    "### continue statement"
   ]
  },
  {
   "cell_type": "code",
   "execution_count": 40,
   "id": "3d3d647b",
   "metadata": {},
   "outputs": [
    {
     "name": "stdout",
     "output_type": "stream",
     "text": [
      "0\n",
      "1\n",
      "2\n",
      "3\n",
      "4\n",
      "6\n",
      "7\n",
      "8\n",
      "9\n"
     ]
    }
   ],
   "source": [
    "for x in range(10):\n",
    "    if x == 5:\n",
    "        continue\n",
    "    print(x)"
   ]
  },
  {
   "cell_type": "code",
   "execution_count": 41,
   "id": "2400dcf8",
   "metadata": {},
   "outputs": [
    {
     "name": "stdout",
     "output_type": "stream",
     "text": [
      "1\n",
      "3\n",
      "5\n",
      "7\n",
      "9\n"
     ]
    }
   ],
   "source": [
    "for x in range(10):\n",
    "    if x % 2 == 0:\n",
    "        continue\n",
    "    print(x)"
   ]
  },
  {
   "cell_type": "code",
   "execution_count": 42,
   "id": "a379c605",
   "metadata": {},
   "outputs": [
    {
     "name": "stdout",
     "output_type": "stream",
     "text": [
      "0\n",
      "1\n",
      "2\n",
      "3\n",
      "4\n",
      "6\n",
      "7\n",
      "9\n"
     ]
    }
   ],
   "source": [
    "for x in range(10):\n",
    "    if x == 5 or x == 8:\n",
    "        continue\n",
    "    print(x)"
   ]
  },
  {
   "cell_type": "code",
   "execution_count": null,
   "id": "409cb903",
   "metadata": {},
   "outputs": [],
   "source": []
  }
 ],
 "metadata": {
  "kernelspec": {
   "display_name": "Python 3",
   "language": "python",
   "name": "python3"
  },
  "language_info": {
   "codemirror_mode": {
    "name": "ipython",
    "version": 3
   },
   "file_extension": ".py",
   "mimetype": "text/x-python",
   "name": "python",
   "nbconvert_exporter": "python",
   "pygments_lexer": "ipython3",
   "version": "3.8.10"
  }
 },
 "nbformat": 4,
 "nbformat_minor": 5
}
