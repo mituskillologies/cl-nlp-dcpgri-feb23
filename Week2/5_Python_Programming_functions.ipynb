{
 "cells": [
  {
   "cell_type": "markdown",
   "id": "755349cb",
   "metadata": {},
   "source": [
    "### Simple Functions"
   ]
  },
  {
   "cell_type": "code",
   "execution_count": 4,
   "id": "f4413725",
   "metadata": {},
   "outputs": [],
   "source": [
    "def show():                           # Function Definition\n",
    "    print('Hello World')\n",
    "    print('Good Bye!')\n",
    "    print('Welcome to Python.')"
   ]
  },
  {
   "cell_type": "code",
   "execution_count": 6,
   "id": "2c841c88",
   "metadata": {},
   "outputs": [
    {
     "name": "stdout",
     "output_type": "stream",
     "text": [
      "Hello World\n",
      "Good Bye!\n",
      "Welcome to Python.\n",
      "Hello World\n",
      "Good Bye!\n",
      "Welcome to Python.\n"
     ]
    }
   ],
   "source": [
    "show()\n",
    "show()"
   ]
  },
  {
   "cell_type": "code",
   "execution_count": 11,
   "id": "10102a69",
   "metadata": {},
   "outputs": [],
   "source": [
    "def show():                           # Function Definition\n",
    "    print('''Hi\n",
    "How are you''')"
   ]
  },
  {
   "cell_type": "code",
   "execution_count": 12,
   "id": "102eeb54",
   "metadata": {},
   "outputs": [
    {
     "name": "stdout",
     "output_type": "stream",
     "text": [
      "Hi\n",
      "How are you\n"
     ]
    }
   ],
   "source": [
    "show()"
   ]
  },
  {
   "cell_type": "markdown",
   "id": "298a39df",
   "metadata": {},
   "source": [
    "### Parameterized Functions / functions with arguments"
   ]
  },
  {
   "cell_type": "code",
   "execution_count": 15,
   "id": "02428337",
   "metadata": {},
   "outputs": [],
   "source": [
    "def square(n):                   # n -> argument / parameter\n",
    "    sq = n * n\n",
    "    print('Square is:', sq)"
   ]
  },
  {
   "cell_type": "code",
   "execution_count": 16,
   "id": "a73642b5",
   "metadata": {},
   "outputs": [
    {
     "name": "stdout",
     "output_type": "stream",
     "text": [
      "Square is: 2025\n"
     ]
    }
   ],
   "source": [
    "square(45)"
   ]
  },
  {
   "cell_type": "code",
   "execution_count": 17,
   "id": "5af0c7d6",
   "metadata": {},
   "outputs": [
    {
     "name": "stdout",
     "output_type": "stream",
     "text": [
      "Square is: 12.96\n"
     ]
    }
   ],
   "source": [
    "square(3.6)"
   ]
  },
  {
   "cell_type": "code",
   "execution_count": 18,
   "id": "8c56fba6",
   "metadata": {},
   "outputs": [],
   "source": [
    "def factorial(n):\n",
    "    fact = 1\n",
    "    for i in range(1, n+1):\n",
    "        fact = fact *i\n",
    "    print('Factorial is:', fact)"
   ]
  },
  {
   "cell_type": "code",
   "execution_count": 19,
   "id": "93b51c9e",
   "metadata": {},
   "outputs": [
    {
     "name": "stdout",
     "output_type": "stream",
     "text": [
      "Factorial is: 120\n"
     ]
    }
   ],
   "source": [
    "factorial(5)"
   ]
  },
  {
   "cell_type": "code",
   "execution_count": 20,
   "id": "b51ae633",
   "metadata": {},
   "outputs": [
    {
     "name": "stdout",
     "output_type": "stream",
     "text": [
      "Factorial is: 355687428096000\n"
     ]
    }
   ],
   "source": [
    "factorial(17)"
   ]
  },
  {
   "cell_type": "markdown",
   "id": "672d13a4",
   "metadata": {},
   "source": [
    "### Multi - parameters"
   ]
  },
  {
   "cell_type": "code",
   "execution_count": 22,
   "id": "d48984b0",
   "metadata": {},
   "outputs": [],
   "source": [
    "def large(x, y):\n",
    "    if x > y:\n",
    "        print('Larger:',x)\n",
    "    else:\n",
    "        print('Larger:',y)"
   ]
  },
  {
   "cell_type": "code",
   "execution_count": 23,
   "id": "052f4d89",
   "metadata": {},
   "outputs": [
    {
     "name": "stdout",
     "output_type": "stream",
     "text": [
      "Larger: 45\n"
     ]
    }
   ],
   "source": [
    "large(45,23)"
   ]
  },
  {
   "cell_type": "code",
   "execution_count": 24,
   "id": "7e054acc",
   "metadata": {},
   "outputs": [
    {
     "name": "stdout",
     "output_type": "stream",
     "text": [
      "Larger: 23.56\n"
     ]
    }
   ],
   "source": [
    "large(23.56, 23.55)"
   ]
  },
  {
   "cell_type": "code",
   "execution_count": 25,
   "id": "ef3ce54c",
   "metadata": {},
   "outputs": [
    {
     "name": "stdout",
     "output_type": "stream",
     "text": [
      "Larger: T\n"
     ]
    }
   ],
   "source": [
    "large('G','T')"
   ]
  },
  {
   "cell_type": "code",
   "execution_count": 26,
   "id": "067ecbdb",
   "metadata": {},
   "outputs": [],
   "source": [
    "# Write a function to print addition and division of two numbers"
   ]
  },
  {
   "cell_type": "code",
   "execution_count": 27,
   "id": "c9588c2a",
   "metadata": {},
   "outputs": [],
   "source": [
    "def calc(n1, n2):\n",
    "    print('Addition:', n1 + n2)\n",
    "    print('Division:', n1 / n2)"
   ]
  },
  {
   "cell_type": "code",
   "execution_count": 28,
   "id": "19937cc7",
   "metadata": {},
   "outputs": [
    {
     "name": "stdout",
     "output_type": "stream",
     "text": [
      "Addition: 123\n",
      "Division: 0.835820895522388\n"
     ]
    }
   ],
   "source": [
    "calc(56,67)"
   ]
  },
  {
   "cell_type": "code",
   "execution_count": 29,
   "id": "6ebe23c9",
   "metadata": {},
   "outputs": [
    {
     "name": "stdout",
     "output_type": "stream",
     "text": [
      "Addition: 71.79\n",
      "Division: 4.766265060240964\n"
     ]
    }
   ],
   "source": [
    "calc(59.34, 12.45)"
   ]
  },
  {
   "cell_type": "markdown",
   "id": "20f9f60d",
   "metadata": {},
   "source": [
    "### Function returning values"
   ]
  },
  {
   "cell_type": "code",
   "execution_count": 32,
   "id": "b10a921d",
   "metadata": {},
   "outputs": [],
   "source": [
    "def square(n):                   # n -> argument / parameter\n",
    "    sq = n * n\n",
    "    return sq"
   ]
  },
  {
   "cell_type": "code",
   "execution_count": 33,
   "id": "7e4eff7a",
   "metadata": {},
   "outputs": [],
   "source": [
    "num = square(4)"
   ]
  },
  {
   "cell_type": "code",
   "execution_count": 34,
   "id": "f4b2bcd3",
   "metadata": {},
   "outputs": [
    {
     "data": {
      "text/plain": [
       "16"
      ]
     },
     "execution_count": 34,
     "metadata": {},
     "output_type": "execute_result"
    }
   ],
   "source": [
    "num"
   ]
  },
  {
   "cell_type": "code",
   "execution_count": 35,
   "id": "e9e88449",
   "metadata": {},
   "outputs": [
    {
     "name": "stdout",
     "output_type": "stream",
     "text": [
      "3136\n"
     ]
    }
   ],
   "source": [
    "print(square(56))"
   ]
  },
  {
   "cell_type": "code",
   "execution_count": 36,
   "id": "bb961e11",
   "metadata": {},
   "outputs": [
    {
     "data": {
      "text/plain": [
       "125"
      ]
     },
     "execution_count": 36,
     "metadata": {},
     "output_type": "execute_result"
    }
   ],
   "source": [
    "5 * square(5)"
   ]
  },
  {
   "cell_type": "code",
   "execution_count": 37,
   "id": "8fa835bb",
   "metadata": {},
   "outputs": [],
   "source": [
    "def factorial(n):\n",
    "    fact = 1\n",
    "    for i in range(1, n+1):\n",
    "        fact = fact *i\n",
    "    return fact"
   ]
  },
  {
   "cell_type": "code",
   "execution_count": 38,
   "id": "a18efaa3",
   "metadata": {},
   "outputs": [
    {
     "name": "stdout",
     "output_type": "stream",
     "text": [
      "Factorial of 5 is 120\n"
     ]
    }
   ],
   "source": [
    "print('Factorial of 5 is', factorial(5))"
   ]
  },
  {
   "cell_type": "markdown",
   "id": "f2b13839",
   "metadata": {},
   "source": [
    "### Multi - return statement"
   ]
  },
  {
   "cell_type": "code",
   "execution_count": 42,
   "id": "a3b5042d",
   "metadata": {},
   "outputs": [],
   "source": [
    "def calc(num):\n",
    "    sq = num * num\n",
    "    cu = num ** 3\n",
    "    return sq, cu"
   ]
  },
  {
   "cell_type": "code",
   "execution_count": 43,
   "id": "3cba7b04",
   "metadata": {},
   "outputs": [],
   "source": [
    "x, y = calc(3)"
   ]
  },
  {
   "cell_type": "code",
   "execution_count": 44,
   "id": "e691c98a",
   "metadata": {},
   "outputs": [
    {
     "name": "stdout",
     "output_type": "stream",
     "text": [
      "Square is 9 Cube is 27\n"
     ]
    }
   ],
   "source": [
    "print('Square is',x,'Cube is',y)"
   ]
  },
  {
   "cell_type": "code",
   "execution_count": 45,
   "id": "3257af14",
   "metadata": {},
   "outputs": [
    {
     "name": "stdout",
     "output_type": "stream",
     "text": [
      "Enter a number: 56\n",
      "Positive Number\n"
     ]
    }
   ],
   "source": [
    "# Define a function isPositive()\n",
    "def isPositive(n):\n",
    "    if n > 0:\n",
    "        return True\n",
    "    else:\n",
    "        return False\n",
    "\n",
    "num = int(input('Enter a number: '))\n",
    "if isPositive(num):\n",
    "    print('Positive Number')\n",
    "else:\n",
    "    print('Negative Number')"
   ]
  },
  {
   "cell_type": "markdown",
   "id": "5f62f484",
   "metadata": {},
   "source": [
    "### Default parameters and Keyword arguments"
   ]
  },
  {
   "cell_type": "code",
   "execution_count": 48,
   "id": "459d2b30",
   "metadata": {},
   "outputs": [],
   "source": [
    "def add(x=6, y=4, z=2):\n",
    "    a = x + y + z\n",
    "    return a"
   ]
  },
  {
   "cell_type": "code",
   "execution_count": 54,
   "id": "4b83e8cc",
   "metadata": {},
   "outputs": [
    {
     "name": "stdout",
     "output_type": "stream",
     "text": [
      "1: 24\n",
      "2: 17\n",
      "3: 13\n",
      "4: 12\n",
      "5: 11\n",
      "1: 15\n"
     ]
    }
   ],
   "source": [
    "print('1:', add(7,8,9))\n",
    "print('2:', add(7,8))\n",
    "print('3:', add(7))\n",
    "print('4:', add())\n",
    "print('5:', add(y=3))\n",
    "print('1:', add(z=9,x=1,y=5))"
   ]
  },
  {
   "cell_type": "markdown",
   "id": "cc2c2398",
   "metadata": {},
   "source": [
    "### lambda functions / anonymous functions"
   ]
  },
  {
   "cell_type": "code",
   "execution_count": 57,
   "id": "d9316d74",
   "metadata": {},
   "outputs": [],
   "source": [
    "square = lambda x : x * x"
   ]
  },
  {
   "cell_type": "code",
   "execution_count": 58,
   "id": "599d388a",
   "metadata": {},
   "outputs": [
    {
     "data": {
      "text/plain": [
       "16"
      ]
     },
     "execution_count": 58,
     "metadata": {},
     "output_type": "execute_result"
    }
   ],
   "source": [
    "square(4)"
   ]
  },
  {
   "cell_type": "code",
   "execution_count": 59,
   "id": "d7303246",
   "metadata": {},
   "outputs": [],
   "source": [
    "# Map"
   ]
  },
  {
   "cell_type": "code",
   "execution_count": 60,
   "id": "6b03efc0",
   "metadata": {},
   "outputs": [],
   "source": [
    "num = [56,12,33,79,42,68,91]"
   ]
  },
  {
   "cell_type": "code",
   "execution_count": 61,
   "id": "f78d8a85",
   "metadata": {},
   "outputs": [],
   "source": [
    "new = map(lambda x: x/2, num)"
   ]
  },
  {
   "cell_type": "code",
   "execution_count": 62,
   "id": "e30cb563",
   "metadata": {},
   "outputs": [
    {
     "data": {
      "text/plain": [
       "[28.0, 6.0, 16.5, 39.5, 21.0, 34.0, 45.5]"
      ]
     },
     "execution_count": 62,
     "metadata": {},
     "output_type": "execute_result"
    }
   ],
   "source": [
    "list(new)"
   ]
  },
  {
   "cell_type": "code",
   "execution_count": 63,
   "id": "d8405989",
   "metadata": {},
   "outputs": [
    {
     "data": {
      "text/plain": [
       "[3136, 144, 1089, 6241, 1764, 4624, 8281]"
      ]
     },
     "execution_count": 63,
     "metadata": {},
     "output_type": "execute_result"
    }
   ],
   "source": [
    "new = map(lambda x: x**2, num)\n",
    "list(new)"
   ]
  },
  {
   "cell_type": "code",
   "execution_count": 64,
   "id": "95538b9b",
   "metadata": {},
   "outputs": [],
   "source": [
    "# filter"
   ]
  },
  {
   "cell_type": "code",
   "execution_count": 65,
   "id": "f7fe4b87",
   "metadata": {},
   "outputs": [
    {
     "data": {
      "text/plain": [
       "[56, 12, 33, 79, 42, 68, 91]"
      ]
     },
     "execution_count": 65,
     "metadata": {},
     "output_type": "execute_result"
    }
   ],
   "source": [
    "num"
   ]
  },
  {
   "cell_type": "code",
   "execution_count": 66,
   "id": "2372c5c3",
   "metadata": {},
   "outputs": [
    {
     "data": {
      "text/plain": [
       "[56, 79, 68, 91]"
      ]
     },
     "execution_count": 66,
     "metadata": {},
     "output_type": "execute_result"
    }
   ],
   "source": [
    "new = filter(lambda x : x > 50, num)\n",
    "list(new)"
   ]
  },
  {
   "cell_type": "code",
   "execution_count": 67,
   "id": "c332184b",
   "metadata": {},
   "outputs": [
    {
     "data": {
      "text/plain": [
       "[33, 79, 91]"
      ]
     },
     "execution_count": 67,
     "metadata": {},
     "output_type": "execute_result"
    }
   ],
   "source": [
    "odd = filter(lambda x : x % 2 == 1, num)\n",
    "list(odd)"
   ]
  },
  {
   "cell_type": "markdown",
   "id": "353bd037",
   "metadata": {},
   "source": [
    "### Variable arguments"
   ]
  },
  {
   "cell_type": "code",
   "execution_count": 69,
   "id": "1ade0ef4",
   "metadata": {},
   "outputs": [],
   "source": [
    "def display(*num):\n",
    "    for n in num:\n",
    "        print(n, end=' ')"
   ]
  },
  {
   "cell_type": "code",
   "execution_count": 70,
   "id": "d801dd98",
   "metadata": {},
   "outputs": [
    {
     "name": "stdout",
     "output_type": "stream",
     "text": [
      "45 22 13 55 67 "
     ]
    }
   ],
   "source": [
    "display(45,22,13,55,67)"
   ]
  },
  {
   "cell_type": "code",
   "execution_count": 71,
   "id": "1c9adc3d",
   "metadata": {},
   "outputs": [
    {
     "name": "stdout",
     "output_type": "stream",
     "text": [
      "56.77 Pune 23 11 "
     ]
    }
   ],
   "source": [
    "display(56.77,'Pune',23,11)"
   ]
  },
  {
   "cell_type": "code",
   "execution_count": null,
   "id": "bc10bd3c",
   "metadata": {},
   "outputs": [],
   "source": []
  }
 ],
 "metadata": {
  "kernelspec": {
   "display_name": "Python 3 (ipykernel)",
   "language": "python",
   "name": "python3"
  },
  "language_info": {
   "codemirror_mode": {
    "name": "ipython",
    "version": 3
   },
   "file_extension": ".py",
   "mimetype": "text/x-python",
   "name": "python",
   "nbconvert_exporter": "python",
   "pygments_lexer": "ipython3",
   "version": "3.8.10"
  }
 },
 "nbformat": 4,
 "nbformat_minor": 5
}
