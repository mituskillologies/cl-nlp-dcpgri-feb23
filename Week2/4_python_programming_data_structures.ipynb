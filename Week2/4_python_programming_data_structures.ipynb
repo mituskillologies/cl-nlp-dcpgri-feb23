{
 "cells": [
  {
   "cell_type": "code",
   "execution_count": 1,
   "id": "1c216288",
   "metadata": {},
   "outputs": [
    {
     "data": {
      "text/plain": [
       "list"
      ]
     },
     "execution_count": 1,
     "metadata": {},
     "output_type": "execute_result"
    }
   ],
   "source": [
    "num = [56,11,23,67,89,54,12,34]\n",
    "type(num)"
   ]
  },
  {
   "cell_type": "code",
   "execution_count": 2,
   "id": "15850144",
   "metadata": {},
   "outputs": [
    {
     "data": {
      "text/plain": [
       "tuple"
      ]
     },
     "execution_count": 2,
     "metadata": {},
     "output_type": "execute_result"
    }
   ],
   "source": [
    "num = (56,11,23,67,89,54,12,34)\n",
    "type(num)"
   ]
  },
  {
   "cell_type": "code",
   "execution_count": 3,
   "id": "9016b46b",
   "metadata": {},
   "outputs": [
    {
     "data": {
      "text/plain": [
       "set"
      ]
     },
     "execution_count": 3,
     "metadata": {},
     "output_type": "execute_result"
    }
   ],
   "source": [
    "num = {56,11,23,67,89,54,12,34}\n",
    "type(num)"
   ]
  },
  {
   "cell_type": "code",
   "execution_count": 4,
   "id": "b7cd9d1e",
   "metadata": {
    "scrolled": true
   },
   "outputs": [
    {
     "data": {
      "text/plain": [
       "dict"
      ]
     },
     "execution_count": 4,
     "metadata": {},
     "output_type": "execute_result"
    }
   ],
   "source": [
    "num = {56:11,23:67,89:54,12:34}\n",
    "type(num)"
   ]
  },
  {
   "cell_type": "markdown",
   "id": "6ceb7604",
   "metadata": {},
   "source": [
    "### List Data Structure"
   ]
  },
  {
   "cell_type": "code",
   "execution_count": 6,
   "id": "17639cac",
   "metadata": {},
   "outputs": [],
   "source": [
    "num = [45,32,18,45,78,34,22,12,57]"
   ]
  },
  {
   "cell_type": "code",
   "execution_count": 7,
   "id": "a54f093c",
   "metadata": {},
   "outputs": [],
   "source": [
    "fruits = ['apple','banana','berry','guava','pineapple','cherry']"
   ]
  },
  {
   "cell_type": "code",
   "execution_count": 8,
   "id": "0e65c969",
   "metadata": {},
   "outputs": [],
   "source": [
    "mixed = [67,12,True,'Hello',78.35,'Pune']"
   ]
  },
  {
   "cell_type": "code",
   "execution_count": 9,
   "id": "a9343de1",
   "metadata": {},
   "outputs": [
    {
     "data": {
      "text/plain": [
       "list"
      ]
     },
     "execution_count": 9,
     "metadata": {},
     "output_type": "execute_result"
    }
   ],
   "source": [
    "type(mixed)"
   ]
  },
  {
   "cell_type": "code",
   "execution_count": 10,
   "id": "6e32506f",
   "metadata": {},
   "outputs": [
    {
     "data": {
      "text/plain": [
       "45"
      ]
     },
     "execution_count": 10,
     "metadata": {},
     "output_type": "execute_result"
    }
   ],
   "source": [
    "# Access the single element\n",
    "num[3]"
   ]
  },
  {
   "cell_type": "code",
   "execution_count": 11,
   "id": "6618b99d",
   "metadata": {},
   "outputs": [
    {
     "data": {
      "text/plain": [
       "'banana'"
      ]
     },
     "execution_count": 11,
     "metadata": {},
     "output_type": "execute_result"
    }
   ],
   "source": [
    "fruits[1]"
   ]
  },
  {
   "cell_type": "code",
   "execution_count": 12,
   "id": "29d1cc92",
   "metadata": {},
   "outputs": [
    {
     "data": {
      "text/plain": [
       "True"
      ]
     },
     "execution_count": 12,
     "metadata": {},
     "output_type": "execute_result"
    }
   ],
   "source": [
    "mixed[2]"
   ]
  },
  {
   "cell_type": "code",
   "execution_count": 13,
   "id": "35c3e0aa",
   "metadata": {},
   "outputs": [
    {
     "data": {
      "text/plain": [
       "57"
      ]
     },
     "execution_count": 13,
     "metadata": {},
     "output_type": "execute_result"
    }
   ],
   "source": [
    "# Negative indexing\n",
    "num[-1]"
   ]
  },
  {
   "cell_type": "code",
   "execution_count": 14,
   "id": "399d290e",
   "metadata": {},
   "outputs": [
    {
     "data": {
      "text/plain": [
       "'cherry'"
      ]
     },
     "execution_count": 14,
     "metadata": {},
     "output_type": "execute_result"
    }
   ],
   "source": [
    "fruits[-1]"
   ]
  },
  {
   "cell_type": "code",
   "execution_count": 16,
   "id": "31e07361",
   "metadata": {},
   "outputs": [
    {
     "data": {
      "text/plain": [
       "234"
      ]
     },
     "execution_count": 16,
     "metadata": {},
     "output_type": "execute_result"
    }
   ],
   "source": [
    "# Single value can be treated as variable\n",
    "num[4] * 3"
   ]
  },
  {
   "cell_type": "code",
   "execution_count": 18,
   "id": "0950e339",
   "metadata": {},
   "outputs": [
    {
     "data": {
      "text/plain": [
       "True"
      ]
     },
     "execution_count": 18,
     "metadata": {},
     "output_type": "execute_result"
    }
   ],
   "source": [
    "fruits[4].startswith('p')"
   ]
  },
  {
   "cell_type": "code",
   "execution_count": 19,
   "id": "03f183e9",
   "metadata": {},
   "outputs": [
    {
     "data": {
      "text/plain": [
       "'berryberryberryberry'"
      ]
     },
     "execution_count": 19,
     "metadata": {},
     "output_type": "execute_result"
    }
   ],
   "source": [
    "fruits[2] * 4"
   ]
  },
  {
   "cell_type": "code",
   "execution_count": 20,
   "id": "fa2dd01f",
   "metadata": {},
   "outputs": [
    {
     "data": {
      "text/plain": [
       "[45, 32, 18, 45, 78, 34, 22, 12, 57]"
      ]
     },
     "execution_count": 20,
     "metadata": {},
     "output_type": "execute_result"
    }
   ],
   "source": [
    "# Slicing\n",
    "num"
   ]
  },
  {
   "cell_type": "code",
   "execution_count": 21,
   "id": "82d21108",
   "metadata": {},
   "outputs": [
    {
     "name": "stdout",
     "output_type": "stream",
     "text": [
      "[18, 45, 78, 34]\n"
     ]
    }
   ],
   "source": [
    "x  = num[2:6]\n",
    "print(x)"
   ]
  },
  {
   "cell_type": "code",
   "execution_count": 22,
   "id": "d59ebde7",
   "metadata": {},
   "outputs": [
    {
     "data": {
      "text/plain": [
       "[45, 32, 18, 45, 78, 34]"
      ]
     },
     "execution_count": 22,
     "metadata": {},
     "output_type": "execute_result"
    }
   ],
   "source": [
    "num[:6]"
   ]
  },
  {
   "cell_type": "code",
   "execution_count": 23,
   "id": "f07bcccc",
   "metadata": {},
   "outputs": [
    {
     "data": {
      "text/plain": [
       "[78, 34, 22, 12, 57]"
      ]
     },
     "execution_count": 23,
     "metadata": {},
     "output_type": "execute_result"
    }
   ],
   "source": [
    "num[4:]"
   ]
  },
  {
   "cell_type": "code",
   "execution_count": 24,
   "id": "b3c26fc7",
   "metadata": {},
   "outputs": [
    {
     "data": {
      "text/plain": [
       "['berry', 'guava', 'pineapple', 'cherry']"
      ]
     },
     "execution_count": 24,
     "metadata": {},
     "output_type": "execute_result"
    }
   ],
   "source": [
    "fruits[2:]"
   ]
  },
  {
   "cell_type": "code",
   "execution_count": 25,
   "id": "9d8da8fd",
   "metadata": {},
   "outputs": [
    {
     "data": {
      "text/plain": [
       "[45, 32, 18, 45, 78, 34, 22, 12, 57]"
      ]
     },
     "execution_count": 25,
     "metadata": {},
     "output_type": "execute_result"
    }
   ],
   "source": [
    "num"
   ]
  },
  {
   "cell_type": "code",
   "execution_count": 26,
   "id": "f1c9a2a5",
   "metadata": {},
   "outputs": [],
   "source": [
    "num[2:6] = [56,32,18,76]"
   ]
  },
  {
   "cell_type": "code",
   "execution_count": 27,
   "id": "20124ac3",
   "metadata": {},
   "outputs": [
    {
     "data": {
      "text/plain": [
       "[45, 32, 56, 32, 18, 76, 22, 12, 57]"
      ]
     },
     "execution_count": 27,
     "metadata": {},
     "output_type": "execute_result"
    }
   ],
   "source": [
    "num"
   ]
  },
  {
   "cell_type": "code",
   "execution_count": 28,
   "id": "88235db6",
   "metadata": {},
   "outputs": [],
   "source": [
    "num[6] = 67"
   ]
  },
  {
   "cell_type": "code",
   "execution_count": 29,
   "id": "8ff8f6ec",
   "metadata": {},
   "outputs": [
    {
     "data": {
      "text/plain": [
       "[45, 32, 56, 32, 18, 76, 67, 12, 57]"
      ]
     },
     "execution_count": 29,
     "metadata": {},
     "output_type": "execute_result"
    }
   ],
   "source": [
    "num"
   ]
  },
  {
   "cell_type": "code",
   "execution_count": 30,
   "id": "0360bee5",
   "metadata": {},
   "outputs": [
    {
     "data": {
      "text/plain": [
       "True"
      ]
     },
     "execution_count": 30,
     "metadata": {},
     "output_type": "execute_result"
    }
   ],
   "source": [
    "# in operator\n",
    "76 in num "
   ]
  },
  {
   "cell_type": "code",
   "execution_count": 31,
   "id": "6bc37e95",
   "metadata": {},
   "outputs": [
    {
     "data": {
      "text/plain": [
       "False"
      ]
     },
     "execution_count": 31,
     "metadata": {},
     "output_type": "execute_result"
    }
   ],
   "source": [
    "12 not in num"
   ]
  },
  {
   "cell_type": "code",
   "execution_count": 32,
   "id": "ee2c6535",
   "metadata": {},
   "outputs": [
    {
     "data": {
      "text/plain": [
       "True"
      ]
     },
     "execution_count": 32,
     "metadata": {},
     "output_type": "execute_result"
    }
   ],
   "source": [
    "'banana' in fruits"
   ]
  },
  {
   "cell_type": "code",
   "execution_count": 33,
   "id": "42550ee4",
   "metadata": {},
   "outputs": [
    {
     "data": {
      "text/plain": [
       "[45, 32, 56, 32, 18, 76, 67, 12, 57]"
      ]
     },
     "execution_count": 33,
     "metadata": {},
     "output_type": "execute_result"
    }
   ],
   "source": [
    "# Delete a value from num\n",
    "num"
   ]
  },
  {
   "cell_type": "code",
   "execution_count": 34,
   "id": "98272196",
   "metadata": {},
   "outputs": [],
   "source": [
    "del num[4]"
   ]
  },
  {
   "cell_type": "code",
   "execution_count": 35,
   "id": "301961c4",
   "metadata": {},
   "outputs": [
    {
     "data": {
      "text/plain": [
       "[45, 32, 56, 32, 76, 67, 12, 57]"
      ]
     },
     "execution_count": 35,
     "metadata": {},
     "output_type": "execute_result"
    }
   ],
   "source": [
    "num"
   ]
  },
  {
   "cell_type": "code",
   "execution_count": 39,
   "id": "6c022311",
   "metadata": {},
   "outputs": [
    {
     "data": {
      "text/plain": [
       "[45, 32, 56, 32, 76, 67, 12, 57, 45, 32, 56, 32, 76, 67, 12, 57]"
      ]
     },
     "execution_count": 39,
     "metadata": {},
     "output_type": "execute_result"
    }
   ],
   "source": [
    "# Arithmetic operations\n",
    "num * 2"
   ]
  },
  {
   "cell_type": "code",
   "execution_count": 37,
   "id": "6e1fc8d4",
   "metadata": {},
   "outputs": [
    {
     "data": {
      "text/plain": [
       "[45, 32, 56, 32, 76, 67, 12, 57, 42, 78]"
      ]
     },
     "execution_count": 37,
     "metadata": {},
     "output_type": "execute_result"
    }
   ],
   "source": [
    "num + [42, 78]"
   ]
  },
  {
   "cell_type": "code",
   "execution_count": 40,
   "id": "64dfb39a",
   "metadata": {},
   "outputs": [
    {
     "data": {
      "text/plain": [
       "[45, 32, 56, 32, 76, 67, 12, 57]"
      ]
     },
     "execution_count": 40,
     "metadata": {},
     "output_type": "execute_result"
    }
   ],
   "source": [
    "num"
   ]
  },
  {
   "cell_type": "code",
   "execution_count": 42,
   "id": "3c74d39d",
   "metadata": {},
   "outputs": [
    {
     "data": {
      "text/plain": [
       "[45, 32, 56, 32, 76, 67, 12, 57, 42, 78, 42, 78]"
      ]
     },
     "execution_count": 42,
     "metadata": {},
     "output_type": "execute_result"
    }
   ],
   "source": [
    "num += [42, 78]\n",
    "num"
   ]
  },
  {
   "cell_type": "code",
   "execution_count": 45,
   "id": "51c8f95b",
   "metadata": {},
   "outputs": [
    {
     "name": "stdout",
     "output_type": "stream",
     "text": [
      "2025 1024 3136 1024 5776 4489 144 3249 1764 6084 1764 6084 "
     ]
    }
   ],
   "source": [
    "# Iteration using for loop\n",
    "for i in num:\n",
    "    print(i * i, end = ' ')"
   ]
  },
  {
   "cell_type": "code",
   "execution_count": 47,
   "id": "856b5f25",
   "metadata": {},
   "outputs": [
    {
     "name": "stdout",
     "output_type": "stream",
     "text": [
      "45 67 57 "
     ]
    }
   ],
   "source": [
    "# Find the odd numbers from list\n",
    "for i in num:\n",
    "    if i % 2 == 1:\n",
    "        print(i, end = ' ')"
   ]
  },
  {
   "cell_type": "code",
   "execution_count": 48,
   "id": "9d274600",
   "metadata": {},
   "outputs": [
    {
     "name": "stdout",
     "output_type": "stream",
     "text": [
      "berry cherry "
     ]
    }
   ],
   "source": [
    "# Find the names of fruits which ends with 'y'\n",
    "for s in fruits:\n",
    "    if s.endswith('y'):\n",
    "        print(s, end = ' ')"
   ]
  },
  {
   "cell_type": "code",
   "execution_count": 50,
   "id": "c40ba709",
   "metadata": {},
   "outputs": [
    {
     "data": {
      "text/plain": [
       "[22.5, 16.0, 28.0, 16.0, 38.0, 33.5, 6.0, 28.5, 21.0, 39.0, 21.0, 39.0]"
      ]
     },
     "execution_count": 50,
     "metadata": {},
     "output_type": "execute_result"
    }
   ],
   "source": [
    "# List comprehension - map\n",
    "new = [x/2 for x in num]\n",
    "new"
   ]
  },
  {
   "cell_type": "code",
   "execution_count": 51,
   "id": "51c20b31",
   "metadata": {},
   "outputs": [
    {
     "data": {
      "text/plain": [
       "[2025, 1024, 3136, 1024, 5776, 4489, 144, 3249, 1764, 6084, 1764, 6084]"
      ]
     },
     "execution_count": 51,
     "metadata": {},
     "output_type": "execute_result"
    }
   ],
   "source": [
    "new = [x*x for x in num]\n",
    "new"
   ]
  },
  {
   "cell_type": "code",
   "execution_count": 52,
   "id": "8b9172c7",
   "metadata": {},
   "outputs": [
    {
     "data": {
      "text/plain": [
       "[45, 67, 57]"
      ]
     },
     "execution_count": 52,
     "metadata": {},
     "output_type": "execute_result"
    }
   ],
   "source": [
    "# List comprehension - filter\n",
    "new = [x for x in num if x % 2 == 1]\n",
    "new"
   ]
  },
  {
   "cell_type": "code",
   "execution_count": 54,
   "id": "84e1e0c8",
   "metadata": {},
   "outputs": [
    {
     "data": {
      "text/plain": [
       "['berry', 'cherry']"
      ]
     },
     "execution_count": 54,
     "metadata": {},
     "output_type": "execute_result"
    }
   ],
   "source": [
    "new = [x for x in fruits if x.endswith('y')]\n",
    "new"
   ]
  },
  {
   "cell_type": "code",
   "execution_count": 55,
   "id": "bfdf0f2c",
   "metadata": {},
   "outputs": [],
   "source": [
    "# Empty list"
   ]
  },
  {
   "cell_type": "code",
   "execution_count": 56,
   "id": "f109ad74",
   "metadata": {},
   "outputs": [
    {
     "data": {
      "text/plain": [
       "list"
      ]
     },
     "execution_count": 56,
     "metadata": {},
     "output_type": "execute_result"
    }
   ],
   "source": [
    "e = []\n",
    "type(e)"
   ]
  },
  {
   "cell_type": "code",
   "execution_count": 57,
   "id": "a547122d",
   "metadata": {},
   "outputs": [
    {
     "ename": "IndexError",
     "evalue": "list index out of range",
     "output_type": "error",
     "traceback": [
      "\u001b[0;31m---------------------------------------------------------------------------\u001b[0m",
      "\u001b[0;31mIndexError\u001b[0m                                Traceback (most recent call last)",
      "\u001b[0;32m<ipython-input-57-8088862005ba>\u001b[0m in \u001b[0;36m<module>\u001b[0;34m\u001b[0m\n\u001b[0;32m----> 1\u001b[0;31m \u001b[0me\u001b[0m\u001b[0;34m[\u001b[0m\u001b[0;36m0\u001b[0m\u001b[0;34m]\u001b[0m\u001b[0;34m\u001b[0m\u001b[0;34m\u001b[0m\u001b[0m\n\u001b[0m",
      "\u001b[0;31mIndexError\u001b[0m: list index out of range"
     ]
    }
   ],
   "source": [
    "e[0]"
   ]
  },
  {
   "cell_type": "code",
   "execution_count": 67,
   "id": "fe28979b",
   "metadata": {},
   "outputs": [
    {
     "data": {
      "text/plain": [
       "[34, 29, 34, 34, 29, 34, 34, 34, 34, 34]"
      ]
     },
     "execution_count": 67,
     "metadata": {},
     "output_type": "execute_result"
    }
   ],
   "source": [
    "e += [34]\n",
    "e"
   ]
  },
  {
   "cell_type": "code",
   "execution_count": 62,
   "id": "0d0f5617",
   "metadata": {},
   "outputs": [
    {
     "data": {
      "text/plain": [
       "[34, 29, 34, 34, 29]"
      ]
     },
     "execution_count": 62,
     "metadata": {},
     "output_type": "execute_result"
    }
   ],
   "source": [
    "e += [29]\n",
    "e"
   ]
  },
  {
   "cell_type": "code",
   "execution_count": 68,
   "id": "75cf5459",
   "metadata": {},
   "outputs": [
    {
     "data": {
      "text/plain": [
       "12"
      ]
     },
     "execution_count": 68,
     "metadata": {},
     "output_type": "execute_result"
    }
   ],
   "source": [
    "# Functions for list\n",
    "len(num)"
   ]
  },
  {
   "cell_type": "code",
   "execution_count": 69,
   "id": "fb0ab251",
   "metadata": {},
   "outputs": [
    {
     "data": {
      "text/plain": [
       "78"
      ]
     },
     "execution_count": 69,
     "metadata": {},
     "output_type": "execute_result"
    }
   ],
   "source": [
    "max(num)"
   ]
  },
  {
   "cell_type": "code",
   "execution_count": 70,
   "id": "b34246c4",
   "metadata": {},
   "outputs": [
    {
     "data": {
      "text/plain": [
       "12"
      ]
     },
     "execution_count": 70,
     "metadata": {},
     "output_type": "execute_result"
    }
   ],
   "source": [
    "min(num)"
   ]
  },
  {
   "cell_type": "code",
   "execution_count": 71,
   "id": "d1dcef55",
   "metadata": {},
   "outputs": [
    {
     "data": {
      "text/plain": [
       "617"
      ]
     },
     "execution_count": 71,
     "metadata": {},
     "output_type": "execute_result"
    }
   ],
   "source": [
    "sum(num)"
   ]
  },
  {
   "cell_type": "code",
   "execution_count": 72,
   "id": "2655cb6a",
   "metadata": {},
   "outputs": [
    {
     "data": {
      "text/plain": [
       "[12, 32, 32, 42, 42, 45, 56, 57, 67, 76, 78, 78]"
      ]
     },
     "execution_count": 72,
     "metadata": {},
     "output_type": "execute_result"
    }
   ],
   "source": [
    "sorted(num)"
   ]
  },
  {
   "cell_type": "code",
   "execution_count": 73,
   "id": "cc0a99b1",
   "metadata": {},
   "outputs": [
    {
     "data": {
      "text/plain": [
       "['apple', 'banana', 'berry', 'cherry', 'guava', 'pineapple']"
      ]
     },
     "execution_count": 73,
     "metadata": {},
     "output_type": "execute_result"
    }
   ],
   "source": [
    "sorted(fruits)"
   ]
  },
  {
   "cell_type": "code",
   "execution_count": 74,
   "id": "4f8a1420",
   "metadata": {},
   "outputs": [
    {
     "data": {
      "text/plain": [
       "'pineapple'"
      ]
     },
     "execution_count": 74,
     "metadata": {},
     "output_type": "execute_result"
    }
   ],
   "source": [
    "max(fruits)"
   ]
  },
  {
   "cell_type": "code",
   "execution_count": 76,
   "id": "d87b4471",
   "metadata": {},
   "outputs": [
    {
     "data": {
      "text/plain": [
       "'apple'"
      ]
     },
     "execution_count": 76,
     "metadata": {},
     "output_type": "execute_result"
    }
   ],
   "source": [
    "min(fruits)"
   ]
  },
  {
   "cell_type": "code",
   "execution_count": 77,
   "id": "e16615e6",
   "metadata": {},
   "outputs": [],
   "source": [
    "# List methods\n",
    "fruits.append('papaya')"
   ]
  },
  {
   "cell_type": "code",
   "execution_count": 78,
   "id": "de0c3c4e",
   "metadata": {},
   "outputs": [
    {
     "data": {
      "text/plain": [
       "['apple', 'banana', 'berry', 'guava', 'pineapple', 'cherry', 'papaya']"
      ]
     },
     "execution_count": 78,
     "metadata": {},
     "output_type": "execute_result"
    }
   ],
   "source": [
    "fruits"
   ]
  },
  {
   "cell_type": "code",
   "execution_count": 79,
   "id": "2e05fb5a",
   "metadata": {},
   "outputs": [],
   "source": [
    "fruits.insert(3, 'melon')"
   ]
  },
  {
   "cell_type": "code",
   "execution_count": 80,
   "id": "67676457",
   "metadata": {},
   "outputs": [
    {
     "data": {
      "text/plain": [
       "['apple', 'banana', 'berry', 'melon', 'guava', 'pineapple', 'cherry', 'papaya']"
      ]
     },
     "execution_count": 80,
     "metadata": {},
     "output_type": "execute_result"
    }
   ],
   "source": [
    "fruits"
   ]
  },
  {
   "cell_type": "code",
   "execution_count": 81,
   "id": "738ea0d4",
   "metadata": {},
   "outputs": [],
   "source": [
    "fruits.remove('guava')"
   ]
  },
  {
   "cell_type": "code",
   "execution_count": 82,
   "id": "db020705",
   "metadata": {},
   "outputs": [
    {
     "data": {
      "text/plain": [
       "['apple', 'banana', 'berry', 'melon', 'pineapple', 'cherry', 'papaya']"
      ]
     },
     "execution_count": 82,
     "metadata": {},
     "output_type": "execute_result"
    }
   ],
   "source": [
    "fruits"
   ]
  },
  {
   "cell_type": "code",
   "execution_count": 83,
   "id": "d0e7f283",
   "metadata": {},
   "outputs": [
    {
     "data": {
      "text/plain": [
       "1"
      ]
     },
     "execution_count": 83,
     "metadata": {},
     "output_type": "execute_result"
    }
   ],
   "source": [
    "fruits.count('cherry')"
   ]
  },
  {
   "cell_type": "code",
   "execution_count": 84,
   "id": "a4a60942",
   "metadata": {},
   "outputs": [
    {
     "data": {
      "text/plain": [
       "2"
      ]
     },
     "execution_count": 84,
     "metadata": {},
     "output_type": "execute_result"
    }
   ],
   "source": [
    "fruits.index('berry')"
   ]
  },
  {
   "cell_type": "code",
   "execution_count": 85,
   "id": "a3cecaef",
   "metadata": {},
   "outputs": [
    {
     "data": {
      "text/plain": [
       "'pineapple'"
      ]
     },
     "execution_count": 85,
     "metadata": {},
     "output_type": "execute_result"
    }
   ],
   "source": [
    "fruits.pop(4)"
   ]
  },
  {
   "cell_type": "code",
   "execution_count": 86,
   "id": "c74df9bc",
   "metadata": {},
   "outputs": [
    {
     "data": {
      "text/plain": [
       "['apple', 'banana', 'berry', 'melon', 'cherry', 'papaya']"
      ]
     },
     "execution_count": 86,
     "metadata": {},
     "output_type": "execute_result"
    }
   ],
   "source": [
    "fruits"
   ]
  },
  {
   "cell_type": "code",
   "execution_count": 87,
   "id": "42ed8982",
   "metadata": {},
   "outputs": [
    {
     "data": {
      "text/plain": [
       "['apple', 'banana', 'berry', 'cherry', 'melon', 'papaya']"
      ]
     },
     "execution_count": 87,
     "metadata": {},
     "output_type": "execute_result"
    }
   ],
   "source": [
    "fruits.sort()\n",
    "fruits"
   ]
  },
  {
   "cell_type": "code",
   "execution_count": 90,
   "id": "e24a17f5",
   "metadata": {},
   "outputs": [
    {
     "name": "stdout",
     "output_type": "stream",
     "text": [
      "['gold', 'aluminium', 'silver', 'gold', 'silver', 'silver', 'gold']\n"
     ]
    }
   ],
   "source": [
    "# Example: I have a list of metals. You have to create a list of \n",
    "# new metals which contain the same items in the same order except\n",
    "# the metal 'copper'\n",
    "\n",
    "metals = ['gold','copper','aluminium','silver','copper','gold',\n",
    "         'silver','silver','copper','gold']\n",
    "\n",
    "new_metals = []\n",
    "for metal in metals:\n",
    "    if metal != 'copper':\n",
    "        new_metals.append(metal)\n",
    "\n",
    "print(new_metals)"
   ]
  },
  {
   "cell_type": "code",
   "execution_count": 91,
   "id": "2dd9c1a4",
   "metadata": {},
   "outputs": [
    {
     "data": {
      "text/plain": [
       "['gold', 'aluminium', 'silver', 'gold', 'silver', 'silver', 'gold']"
      ]
     },
     "execution_count": 91,
     "metadata": {},
     "output_type": "execute_result"
    }
   ],
   "source": [
    "new_metals = [x for x in metals if x != 'copper']\n",
    "new_metals"
   ]
  },
  {
   "cell_type": "markdown",
   "id": "61f4c5a6",
   "metadata": {},
   "source": [
    "### Tuple Data Structure"
   ]
  },
  {
   "cell_type": "code",
   "execution_count": 93,
   "id": "e6ac1a01",
   "metadata": {},
   "outputs": [],
   "source": [
    "num = (45,12,34,19,72,37,64)"
   ]
  },
  {
   "cell_type": "code",
   "execution_count": 94,
   "id": "b74e3d82",
   "metadata": {},
   "outputs": [
    {
     "data": {
      "text/plain": [
       "45"
      ]
     },
     "execution_count": 94,
     "metadata": {},
     "output_type": "execute_result"
    }
   ],
   "source": [
    "num[0]"
   ]
  },
  {
   "cell_type": "code",
   "execution_count": 95,
   "id": "bf01d271",
   "metadata": {},
   "outputs": [
    {
     "data": {
      "text/plain": [
       "72"
      ]
     },
     "execution_count": 95,
     "metadata": {},
     "output_type": "execute_result"
    }
   ],
   "source": [
    "num[-3]"
   ]
  },
  {
   "cell_type": "code",
   "execution_count": 96,
   "id": "2e708dd7",
   "metadata": {},
   "outputs": [
    {
     "data": {
      "text/plain": [
       "tuple"
      ]
     },
     "execution_count": 96,
     "metadata": {},
     "output_type": "execute_result"
    }
   ],
   "source": [
    "type(num)"
   ]
  },
  {
   "cell_type": "code",
   "execution_count": 97,
   "id": "e19179f8",
   "metadata": {},
   "outputs": [
    {
     "data": {
      "text/plain": [
       "(45, 12, 34, 19, 72, 37, 64)"
      ]
     },
     "execution_count": 97,
     "metadata": {},
     "output_type": "execute_result"
    }
   ],
   "source": [
    "num = 45,12,34,19,72,37,64\n",
    "num"
   ]
  },
  {
   "cell_type": "code",
   "execution_count": 98,
   "id": "4dcc3ddb",
   "metadata": {},
   "outputs": [
    {
     "data": {
      "text/plain": [
       "(34, 19, 72, 37, 64)"
      ]
     },
     "execution_count": 98,
     "metadata": {},
     "output_type": "execute_result"
    }
   ],
   "source": [
    "num[2:]"
   ]
  },
  {
   "cell_type": "code",
   "execution_count": 99,
   "id": "7ef59138",
   "metadata": {},
   "outputs": [
    {
     "name": "stdout",
     "output_type": "stream",
     "text": [
      "45 12 34 19 72 37 64 "
     ]
    }
   ],
   "source": [
    "for x in num:\n",
    "    print(x, end = ' ')"
   ]
  },
  {
   "cell_type": "code",
   "execution_count": 100,
   "id": "9791496b",
   "metadata": {},
   "outputs": [
    {
     "data": {
      "text/plain": [
       "False"
      ]
     },
     "execution_count": 100,
     "metadata": {},
     "output_type": "execute_result"
    }
   ],
   "source": [
    "75 in num"
   ]
  },
  {
   "cell_type": "code",
   "execution_count": 101,
   "id": "cba4211d",
   "metadata": {},
   "outputs": [
    {
     "ename": "TypeError",
     "evalue": "'tuple' object does not support item assignment",
     "output_type": "error",
     "traceback": [
      "\u001b[0;31m---------------------------------------------------------------------------\u001b[0m",
      "\u001b[0;31mTypeError\u001b[0m                                 Traceback (most recent call last)",
      "\u001b[0;32m<ipython-input-101-ec4a1c460c31>\u001b[0m in \u001b[0;36m<module>\u001b[0;34m\u001b[0m\n\u001b[0;32m----> 1\u001b[0;31m \u001b[0mnum\u001b[0m\u001b[0;34m[\u001b[0m\u001b[0;36m3\u001b[0m\u001b[0;34m]\u001b[0m \u001b[0;34m=\u001b[0m \u001b[0;36m67\u001b[0m\u001b[0;34m\u001b[0m\u001b[0;34m\u001b[0m\u001b[0m\n\u001b[0m",
      "\u001b[0;31mTypeError\u001b[0m: 'tuple' object does not support item assignment"
     ]
    }
   ],
   "source": [
    "num[3] = 67"
   ]
  },
  {
   "cell_type": "code",
   "execution_count": 102,
   "id": "1b44b74f",
   "metadata": {},
   "outputs": [
    {
     "ename": "TypeError",
     "evalue": "'tuple' object doesn't support item deletion",
     "output_type": "error",
     "traceback": [
      "\u001b[0;31m---------------------------------------------------------------------------\u001b[0m",
      "\u001b[0;31mTypeError\u001b[0m                                 Traceback (most recent call last)",
      "\u001b[0;32m<ipython-input-102-1564192207fb>\u001b[0m in \u001b[0;36m<module>\u001b[0;34m\u001b[0m\n\u001b[0;32m----> 1\u001b[0;31m \u001b[0;32mdel\u001b[0m \u001b[0mnum\u001b[0m\u001b[0;34m[\u001b[0m\u001b[0;36m5\u001b[0m\u001b[0;34m]\u001b[0m\u001b[0;34m\u001b[0m\u001b[0;34m\u001b[0m\u001b[0m\n\u001b[0m",
      "\u001b[0;31mTypeError\u001b[0m: 'tuple' object doesn't support item deletion"
     ]
    }
   ],
   "source": [
    "del num[5]"
   ]
  },
  {
   "cell_type": "markdown",
   "id": "552c140b",
   "metadata": {},
   "source": [
    "### Set Data Structure"
   ]
  },
  {
   "cell_type": "code",
   "execution_count": 104,
   "id": "1c0eb4d8",
   "metadata": {},
   "outputs": [],
   "source": [
    "# Set is the collection of unique / distinct elements"
   ]
  },
  {
   "cell_type": "code",
   "execution_count": 105,
   "id": "73810740",
   "metadata": {},
   "outputs": [],
   "source": [
    "s = {5,6,5,3,4,5,6,7,6,5,4,5,4,6,4,3}"
   ]
  },
  {
   "cell_type": "code",
   "execution_count": 106,
   "id": "5e23d8d1",
   "metadata": {},
   "outputs": [
    {
     "data": {
      "text/plain": [
       "{3, 4, 5, 6, 7}"
      ]
     },
     "execution_count": 106,
     "metadata": {},
     "output_type": "execute_result"
    }
   ],
   "source": [
    "s"
   ]
  },
  {
   "cell_type": "code",
   "execution_count": 107,
   "id": "3af9140e",
   "metadata": {},
   "outputs": [
    {
     "data": {
      "text/plain": [
       "set"
      ]
     },
     "execution_count": 107,
     "metadata": {},
     "output_type": "execute_result"
    }
   ],
   "source": [
    "type(s)"
   ]
  },
  {
   "cell_type": "code",
   "execution_count": 108,
   "id": "f47178ae",
   "metadata": {},
   "outputs": [],
   "source": [
    "s.add(7)"
   ]
  },
  {
   "cell_type": "code",
   "execution_count": 109,
   "id": "4339780a",
   "metadata": {},
   "outputs": [
    {
     "data": {
      "text/plain": [
       "{3, 4, 5, 6, 7}"
      ]
     },
     "execution_count": 109,
     "metadata": {},
     "output_type": "execute_result"
    }
   ],
   "source": [
    "s"
   ]
  },
  {
   "cell_type": "code",
   "execution_count": 110,
   "id": "29fc2f68",
   "metadata": {},
   "outputs": [],
   "source": [
    "s.add(1)"
   ]
  },
  {
   "cell_type": "code",
   "execution_count": 111,
   "id": "63a03d6e",
   "metadata": {},
   "outputs": [
    {
     "data": {
      "text/plain": [
       "{1, 3, 4, 5, 6, 7}"
      ]
     },
     "execution_count": 111,
     "metadata": {},
     "output_type": "execute_result"
    }
   ],
   "source": [
    "s"
   ]
  },
  {
   "cell_type": "code",
   "execution_count": 112,
   "id": "da32aa06",
   "metadata": {},
   "outputs": [],
   "source": [
    "s.add('apple')"
   ]
  },
  {
   "cell_type": "code",
   "execution_count": 113,
   "id": "d115144d",
   "metadata": {},
   "outputs": [
    {
     "data": {
      "text/plain": [
       "{1, 3, 4, 5, 6, 7, 'apple'}"
      ]
     },
     "execution_count": 113,
     "metadata": {},
     "output_type": "execute_result"
    }
   ],
   "source": [
    "s"
   ]
  },
  {
   "cell_type": "markdown",
   "id": "33e0d7f7",
   "metadata": {},
   "source": [
    "### Dictionary Data Structure"
   ]
  },
  {
   "cell_type": "code",
   "execution_count": 115,
   "id": "5acbc636",
   "metadata": {},
   "outputs": [],
   "source": [
    "# Stores the data in key-value pairs"
   ]
  },
  {
   "cell_type": "code",
   "execution_count": 116,
   "id": "5915d55b",
   "metadata": {},
   "outputs": [],
   "source": [
    "d = {5:123, 2:47, 7:266, 10:56}"
   ]
  },
  {
   "cell_type": "code",
   "execution_count": 117,
   "id": "dea4226d",
   "metadata": {},
   "outputs": [
    {
     "data": {
      "text/plain": [
       "dict"
      ]
     },
     "execution_count": 117,
     "metadata": {},
     "output_type": "execute_result"
    }
   ],
   "source": [
    "type(d)"
   ]
  },
  {
   "cell_type": "code",
   "execution_count": 118,
   "id": "43e05f22",
   "metadata": {},
   "outputs": [
    {
     "data": {
      "text/plain": [
       "{5: 123, 2: 47, 7: 266, 10: 56}"
      ]
     },
     "execution_count": 118,
     "metadata": {},
     "output_type": "execute_result"
    }
   ],
   "source": [
    "d"
   ]
  },
  {
   "cell_type": "code",
   "execution_count": 119,
   "id": "586ce19b",
   "metadata": {},
   "outputs": [
    {
     "data": {
      "text/plain": [
       "266"
      ]
     },
     "execution_count": 119,
     "metadata": {},
     "output_type": "execute_result"
    }
   ],
   "source": [
    "d[7]"
   ]
  },
  {
   "cell_type": "code",
   "execution_count": 120,
   "id": "45f62bd1",
   "metadata": {},
   "outputs": [
    {
     "data": {
      "text/plain": [
       "{5: 123, 2: 47, 7: 'apple', 10: 56}"
      ]
     },
     "execution_count": 120,
     "metadata": {},
     "output_type": "execute_result"
    }
   ],
   "source": [
    "d[7] = 'apple'\n",
    "d"
   ]
  },
  {
   "cell_type": "code",
   "execution_count": 121,
   "id": "97744a7f",
   "metadata": {},
   "outputs": [
    {
     "data": {
      "text/plain": [
       "{5: 123, 2: 47, 7: 'apple', 10: 56, 'z': 'zebra'}"
      ]
     },
     "execution_count": 121,
     "metadata": {},
     "output_type": "execute_result"
    }
   ],
   "source": [
    "d['z'] = 'zebra'\n",
    "d"
   ]
  },
  {
   "cell_type": "code",
   "execution_count": null,
   "id": "7faf5cf0",
   "metadata": {},
   "outputs": [],
   "source": []
  }
 ],
 "metadata": {
  "kernelspec": {
   "display_name": "Python 3",
   "language": "python",
   "name": "python3"
  },
  "language_info": {
   "codemirror_mode": {
    "name": "ipython",
    "version": 3
   },
   "file_extension": ".py",
   "mimetype": "text/x-python",
   "name": "python",
   "nbconvert_exporter": "python",
   "pygments_lexer": "ipython3",
   "version": "3.8.10"
  }
 },
 "nbformat": 4,
 "nbformat_minor": 5
}
