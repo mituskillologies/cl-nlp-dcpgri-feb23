{
 "cells": [
  {
   "cell_type": "code",
   "execution_count": 1,
   "id": "b9e36293",
   "metadata": {},
   "outputs": [],
   "source": [
    "from nltk.corpus import wordnet"
   ]
  },
  {
   "cell_type": "code",
   "execution_count": 2,
   "id": "108cd780",
   "metadata": {},
   "outputs": [],
   "source": [
    "word = wordnet.synsets('book')"
   ]
  },
  {
   "cell_type": "markdown",
   "id": "345d2889",
   "metadata": {},
   "source": [
    "### Definition of word"
   ]
  },
  {
   "cell_type": "code",
   "execution_count": 14,
   "id": "51d728c2",
   "metadata": {},
   "outputs": [
    {
     "data": {
      "text/plain": [
       "'an uproarious party'"
      ]
     },
     "execution_count": 14,
     "metadata": {},
     "output_type": "execute_result"
    }
   ],
   "source": [
    "word = wordnet.synsets('do')\n",
    "word[0].definition()"
   ]
  },
  {
   "cell_type": "code",
   "execution_count": 15,
   "id": "e2600d27",
   "metadata": {},
   "outputs": [
    {
     "data": {
      "text/plain": [
       "'the syllable naming the first (tonic) note of any major scale in solmization'"
      ]
     },
     "execution_count": 15,
     "metadata": {},
     "output_type": "execute_result"
    }
   ],
   "source": [
    "word[1].definition()"
   ]
  },
  {
   "cell_type": "markdown",
   "id": "eee0e74e",
   "metadata": {},
   "source": [
    "### Examples"
   ]
  },
  {
   "cell_type": "code",
   "execution_count": 16,
   "id": "924c2f63",
   "metadata": {},
   "outputs": [
    {
     "data": {
      "text/plain": [
       "[]"
      ]
     },
     "execution_count": 16,
     "metadata": {},
     "output_type": "execute_result"
    }
   ],
   "source": [
    "word[0].examples()"
   ]
  },
  {
   "cell_type": "code",
   "execution_count": 17,
   "id": "0cd6c4f9",
   "metadata": {},
   "outputs": [
    {
     "data": {
      "text/plain": [
       "[]"
      ]
     },
     "execution_count": 17,
     "metadata": {},
     "output_type": "execute_result"
    }
   ],
   "source": [
    "word[1].examples()"
   ]
  },
  {
   "cell_type": "markdown",
   "id": "39579308",
   "metadata": {},
   "source": [
    "### Synonyms"
   ]
  },
  {
   "cell_type": "code",
   "execution_count": 25,
   "id": "b73e4903",
   "metadata": {},
   "outputs": [],
   "source": [
    "synonyms = []\n",
    "\n",
    "for syn in wordnet.synsets('well'):\n",
    "    for lemma in syn.lemmas():\n",
    "        synonyms.append(lemma.name())"
   ]
  },
  {
   "cell_type": "code",
   "execution_count": 26,
   "id": "07f30044",
   "metadata": {},
   "outputs": [
    {
     "data": {
      "text/plain": [
       "{'advantageously',\n",
       " 'comfortably',\n",
       " 'considerably',\n",
       " 'easily',\n",
       " 'fountainhead',\n",
       " 'good',\n",
       " 'intimately',\n",
       " 'substantially',\n",
       " 'swell',\n",
       " 'well',\n",
       " 'wellspring'}"
      ]
     },
     "execution_count": 26,
     "metadata": {},
     "output_type": "execute_result"
    }
   ],
   "source": [
    "set(synonyms)"
   ]
  },
  {
   "cell_type": "markdown",
   "id": "ddaa7580",
   "metadata": {},
   "source": [
    "### Antonyms"
   ]
  },
  {
   "cell_type": "code",
   "execution_count": 28,
   "id": "c5365202",
   "metadata": {},
   "outputs": [],
   "source": [
    "antonyms = []\n",
    "\n",
    "for syn in wordnet.synsets('well'):\n",
    "    for lemma in syn.lemmas():\n",
    "        if lemma.antonyms():\n",
    "            antonyms.append(lemma.antonyms()[0].name())"
   ]
  },
  {
   "cell_type": "code",
   "execution_count": 29,
   "id": "01157542",
   "metadata": {},
   "outputs": [
    {
     "data": {
      "text/plain": [
       "{'badly', 'disadvantageously', 'ill'}"
      ]
     },
     "execution_count": 29,
     "metadata": {},
     "output_type": "execute_result"
    }
   ],
   "source": [
    "set(antonyms)"
   ]
  },
  {
   "cell_type": "code",
   "execution_count": null,
   "id": "214a4d65",
   "metadata": {},
   "outputs": [],
   "source": []
  }
 ],
 "metadata": {
  "kernelspec": {
   "display_name": "Python 3",
   "language": "python",
   "name": "python3"
  },
  "language_info": {
   "codemirror_mode": {
    "name": "ipython",
    "version": 3
   },
   "file_extension": ".py",
   "mimetype": "text/x-python",
   "name": "python",
   "nbconvert_exporter": "python",
   "pygments_lexer": "ipython3",
   "version": "3.8.10"
  }
 },
 "nbformat": 4,
 "nbformat_minor": 5
}
