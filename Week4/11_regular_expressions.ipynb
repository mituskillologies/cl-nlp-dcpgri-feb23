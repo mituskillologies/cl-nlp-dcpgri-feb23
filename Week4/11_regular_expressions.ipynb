{
 "cells": [
  {
   "cell_type": "code",
   "execution_count": 1,
   "id": "c46e6978",
   "metadata": {},
   "outputs": [],
   "source": [
    "import re"
   ]
  },
  {
   "cell_type": "markdown",
   "id": "0cfbc1ac",
   "metadata": {},
   "source": [
    "### ^ : starts with, $ : ends with   . : Matching one character"
   ]
  },
  {
   "cell_type": "code",
   "execution_count": 5,
   "id": "398ab989",
   "metadata": {},
   "outputs": [
    {
     "name": "stdout",
     "output_type": "stream",
     "text": [
      "Enter the string:ashish\n",
      "NO Match Found!\n"
     ]
    }
   ],
   "source": [
    "string = input('Enter the string:')\n",
    "result = re.search('^a..l$', string)  # anil, amol\n",
    "\n",
    "if result:\n",
    "    print('Match Found!')\n",
    "else:\n",
    "    print('NO Match Found!')"
   ]
  },
  {
   "cell_type": "code",
   "execution_count": 9,
   "id": "574c5101",
   "metadata": {},
   "outputs": [
    {
     "name": "stdout",
     "output_type": "stream",
     "text": [
      "Enter the string:anmol\n",
      "Match Found!\n"
     ]
    }
   ],
   "source": [
    "string = input('Enter the string:')\n",
    "result = re.search('^a', string) \n",
    "\n",
    "if result:\n",
    "    print('Match Found!')\n",
    "else:\n",
    "    print('NO Match Found!')"
   ]
  },
  {
   "cell_type": "code",
   "execution_count": 11,
   "id": "aa233309",
   "metadata": {},
   "outputs": [
    {
     "name": "stdout",
     "output_type": "stream",
     "text": [
      "Enter the string:अनिकेत\n",
      "NO Match Found!\n"
     ]
    }
   ],
   "source": [
    "string = input('Enter the string:')\n",
    "result = re.search('t$', string)  # anil, amol\n",
    "\n",
    "if result:\n",
    "    print('Match Found!')\n",
    "else:\n",
    "    print('NO Match Found!')"
   ]
  },
  {
   "cell_type": "code",
   "execution_count": 14,
   "id": "4e40c49b",
   "metadata": {},
   "outputs": [
    {
     "name": "stdout",
     "output_type": "stream",
     "text": [
      "Enter the string:raj\n",
      "NO Match Found!\n"
     ]
    }
   ],
   "source": [
    "string = input('Enter the string:')\n",
    "result = re.search('....', string)  # at least three characters\n",
    "\n",
    "if result:\n",
    "    print('Match Found!')\n",
    "else:\n",
    "    print('NO Match Found!')"
   ]
  },
  {
   "cell_type": "markdown",
   "id": "a433bfe4",
   "metadata": {},
   "source": [
    "### [ ] square brackets"
   ]
  },
  {
   "cell_type": "code",
   "execution_count": 17,
   "id": "41cb7d97",
   "metadata": {},
   "outputs": [
    {
     "name": "stdout",
     "output_type": "stream",
     "text": [
      "Enter the string:enjoy\n",
      "Vowels Found!\n"
     ]
    }
   ],
   "source": [
    "string = input('Enter the string:')\n",
    "result = re.search('[aeiou]', string) \n",
    "\n",
    "if result:\n",
    "    print('Vowels Found!')\n",
    "else:\n",
    "    print('NO Vowels Found!')"
   ]
  },
  {
   "cell_type": "code",
   "execution_count": 19,
   "id": "a6311fa0",
   "metadata": {},
   "outputs": [
    {
     "name": "stdout",
     "output_type": "stream",
     "text": [
      "Enter the string:xyz\n",
      "NO Match Found!\n"
     ]
    }
   ],
   "source": [
    "string = input('Enter the string:')\n",
    "result = re.search('[d-k]', string) # Check letters in sequence\n",
    "\n",
    "if result:\n",
    "    print('Match Found!')\n",
    "else:\n",
    "    print('NO Match Found!')"
   ]
  },
  {
   "cell_type": "code",
   "execution_count": 21,
   "id": "aa6219e7",
   "metadata": {},
   "outputs": [
    {
     "name": "stdout",
     "output_type": "stream",
     "text": [
      "Enter the string:hello\n",
      "NO Digits Found!\n"
     ]
    }
   ],
   "source": [
    "string = input('Enter the string:')\n",
    "result = re.search('[0-9]', string) # Check for the digits\n",
    "\n",
    "if result:\n",
    "    print('Digits Found!')\n",
    "else:\n",
    "    print('NO Digits Found!')"
   ]
  },
  {
   "cell_type": "code",
   "execution_count": 29,
   "id": "daafd73d",
   "metadata": {},
   "outputs": [
    {
     "name": "stdout",
     "output_type": "stream",
     "text": [
      "Enter the string:anil\n",
      "Not Found!\n"
     ]
    }
   ],
   "source": [
    "string = input('Enter the string:')\n",
    "result = re.search('[^abcde]', string) # inverse char set\n",
    "\n",
    "if result:\n",
    "    print('Not Found!')\n",
    "else:\n",
    "    print('Match Found!')"
   ]
  },
  {
   "cell_type": "markdown",
   "id": "3f2da9ee",
   "metadata": {},
   "source": [
    "### * star"
   ]
  },
  {
   "cell_type": "code",
   "execution_count": 32,
   "id": "97096166",
   "metadata": {},
   "outputs": [
    {
     "name": "stdout",
     "output_type": "stream",
     "text": [
      "Enter the string:man\n",
      "Match found\n"
     ]
    }
   ],
   "source": [
    "string = input('Enter the string:')\n",
    "result = re.search('ma*n', string)\n",
    "\n",
    "if result:\n",
    "    print('Match found')\n",
    "else:\n",
    "    print('No Match found')"
   ]
  },
  {
   "cell_type": "markdown",
   "id": "cf50dea8",
   "metadata": {},
   "source": [
    "### { } curly braces"
   ]
  },
  {
   "cell_type": "code",
   "execution_count": 36,
   "id": "6e37ef60",
   "metadata": {},
   "outputs": [
    {
     "name": "stdout",
     "output_type": "stream",
     "text": [
      "Enter the string:aasha\n",
      "Match found\n"
     ]
    }
   ],
   "source": [
    "string = input('Enter the string:')\n",
    "result = re.search('a{2,3}', string)\n",
    "\n",
    "if result:\n",
    "    print('Match found')\n",
    "else:\n",
    "    print('No Match found')"
   ]
  },
  {
   "cell_type": "markdown",
   "id": "31923911",
   "metadata": {},
   "source": [
    "### | operator"
   ]
  },
  {
   "cell_type": "code",
   "execution_count": 39,
   "id": "abba0689",
   "metadata": {},
   "outputs": [
    {
     "name": "stdout",
     "output_type": "stream",
     "text": [
      "Enter the string:rims\n",
      "No Match found\n"
     ]
    }
   ],
   "source": [
    "string = input('Enter the string:')\n",
    "result = re.search('a|b', string)\n",
    "\n",
    "if result:\n",
    "    print('Match found', result)\n",
    "else:\n",
    "    print('No Match found')"
   ]
  },
  {
   "cell_type": "markdown",
   "id": "e59b9401",
   "metadata": {},
   "source": [
    "### ( ) parentheses"
   ]
  },
  {
   "cell_type": "code",
   "execution_count": 62,
   "id": "10be2895",
   "metadata": {},
   "outputs": [
    {
     "name": "stdout",
     "output_type": "stream",
     "text": [
      "Enter the string:caul\n",
      "No Match found\n"
     ]
    }
   ],
   "source": [
    "string = input('Enter the string:')\n",
    "result = re.search('(a|b|c|d)l', string)\n",
    "\n",
    "if result:\n",
    "    print('Match found', result)\n",
    "else:\n",
    "    print('No Match found')"
   ]
  },
  {
   "cell_type": "code",
   "execution_count": 57,
   "id": "b9ec8d5a",
   "metadata": {},
   "outputs": [
    {
     "name": "stdout",
     "output_type": "stream",
     "text": [
      "Enter the string:xyz\n",
      "Match found\n"
     ]
    }
   ],
   "source": [
    "# Match exact number of letters\n",
    "string = input('Enter the string:')\n",
    "result = re.search('^[a-z]{3}$', string)\n",
    "\n",
    "if result:\n",
    "    print('Match found')\n",
    "else:\n",
    "    print('No Match found')"
   ]
  },
  {
   "cell_type": "code",
   "execution_count": 63,
   "id": "ec57719a",
   "metadata": {},
   "outputs": [],
   "source": [
    "import re"
   ]
  },
  {
   "cell_type": "code",
   "execution_count": 65,
   "id": "4f2a060a",
   "metadata": {},
   "outputs": [
    {
     "name": "stdout",
     "output_type": "stream",
     "text": [
      "Enter the string:the fruit\n",
      "Match found <re.Match object; span=(0, 3), match='the'>\n"
     ]
    }
   ],
   "source": [
    "# \\A check the presence as start\n",
    "import re\n",
    "\n",
    "string = input('Enter the string:')\n",
    "result = re.search('\\Athe', string)\n",
    "\n",
    "if result:\n",
    "    print('Match found', result)\n",
    "else:\n",
    "    print('No Match found')"
   ]
  },
  {
   "cell_type": "code",
   "execution_count": 76,
   "id": "7e1bb85c",
   "metadata": {},
   "outputs": [
    {
     "name": "stdout",
     "output_type": "stream",
     "text": [
      "Enter the string:anil\n",
      "No Match found\n"
     ]
    }
   ],
   "source": [
    "# \\b check the presence as end\n",
    "import re\n",
    "\n",
    "string = input('Enter the string:')\n",
    "result = re.search('\\Ban', string)\n",
    "\n",
    "if result:\n",
    "    print('Match found', result)\n",
    "else:\n",
    "    print('No Match found')"
   ]
  },
  {
   "cell_type": "code",
   "execution_count": 73,
   "id": "8c9e64f2",
   "metadata": {},
   "outputs": [
    {
     "name": "stdout",
     "output_type": "stream",
     "text": [
      "Enter the string:hello\n",
      "No Match found\n"
     ]
    }
   ],
   "source": [
    "# \\d check the presence of digits\n",
    "import re\n",
    "\n",
    "string = input('Enter the string:')\n",
    "result = re.search('\\d', string)\n",
    "\n",
    "if result:\n",
    "    print('Match found', result)\n",
    "else:\n",
    "    print('No Match found')"
   ]
  },
  {
   "cell_type": "code",
   "execution_count": 78,
   "id": "40bf48e5",
   "metadata": {},
   "outputs": [
    {
     "name": "stdout",
     "output_type": "stream",
     "text": [
      "Enter the string:hello world\n",
      "Match found <re.Match object; span=(5, 6), match=' '>\n"
     ]
    }
   ],
   "source": [
    "# \\s check the white space characters\n",
    "import re\n",
    "\n",
    "string = input('Enter the string:')\n",
    "result = re.search('\\s', string)\n",
    "\n",
    "if result:\n",
    "    print('Match found', result)\n",
    "else:\n",
    "    print('No Match found')"
   ]
  },
  {
   "cell_type": "code",
   "execution_count": null,
   "id": "bd837503",
   "metadata": {},
   "outputs": [],
   "source": []
  }
 ],
 "metadata": {
  "kernelspec": {
   "display_name": "Python 3",
   "language": "python",
   "name": "python3"
  },
  "language_info": {
   "codemirror_mode": {
    "name": "ipython",
    "version": 3
   },
   "file_extension": ".py",
   "mimetype": "text/x-python",
   "name": "python",
   "nbconvert_exporter": "python",
   "pygments_lexer": "ipython3",
   "version": "3.8.10"
  }
 },
 "nbformat": 4,
 "nbformat_minor": 5
}
