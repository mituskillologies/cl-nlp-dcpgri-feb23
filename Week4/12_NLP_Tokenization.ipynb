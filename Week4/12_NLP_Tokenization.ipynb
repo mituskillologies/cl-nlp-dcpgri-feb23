{
 "cells": [
  {
   "cell_type": "code",
   "execution_count": 1,
   "id": "4eb5eef9",
   "metadata": {},
   "outputs": [],
   "source": [
    "#pip install pip -U"
   ]
  },
  {
   "cell_type": "code",
   "execution_count": 2,
   "id": "995bfc91",
   "metadata": {},
   "outputs": [],
   "source": [
    "#pip install nltk bs4 textblob spacy"
   ]
  },
  {
   "cell_type": "code",
   "execution_count": 3,
   "id": "9b60848e",
   "metadata": {},
   "outputs": [],
   "source": [
    "import nltk"
   ]
  },
  {
   "cell_type": "code",
   "execution_count": 22,
   "id": "6e6bc213",
   "metadata": {},
   "outputs": [],
   "source": [
    "sent = 'They told that their ages are 26, 25, 30 and 26 respectively.'"
   ]
  },
  {
   "cell_type": "code",
   "execution_count": 23,
   "id": "eedcf478",
   "metadata": {},
   "outputs": [],
   "source": [
    "# Problem: Find the average of ages in this sentence"
   ]
  },
  {
   "cell_type": "code",
   "execution_count": 24,
   "id": "737a7b66",
   "metadata": {},
   "outputs": [],
   "source": [
    "num = []\n",
    "for word in sent.split():\n",
    "    if word.isdigit():\n",
    "        num.append(int(word))"
   ]
  },
  {
   "cell_type": "code",
   "execution_count": 25,
   "id": "cb720cef",
   "metadata": {},
   "outputs": [
    {
     "data": {
      "text/plain": [
       "28.0"
      ]
     },
     "execution_count": 25,
     "metadata": {},
     "output_type": "execute_result"
    }
   ],
   "source": [
    "sum(num) / len(num)"
   ]
  },
  {
   "cell_type": "code",
   "execution_count": 26,
   "id": "f3505c32",
   "metadata": {},
   "outputs": [
    {
     "data": {
      "text/plain": [
       "28.0"
      ]
     },
     "execution_count": 26,
     "metadata": {},
     "output_type": "execute_result"
    }
   ],
   "source": [
    "import numpy as np\n",
    "np.mean(num)"
   ]
  },
  {
   "cell_type": "markdown",
   "id": "8e3a7925",
   "metadata": {},
   "source": [
    "### Tokenization"
   ]
  },
  {
   "cell_type": "code",
   "execution_count": 32,
   "id": "b79dbb44",
   "metadata": {
    "scrolled": true
   },
   "outputs": [
    {
     "name": "stdout",
     "output_type": "stream",
     "text": [
      "showing info https://raw.githubusercontent.com/nltk/nltk_data/gh-pages/index.xml\n"
     ]
    },
    {
     "data": {
      "text/plain": [
       "True"
      ]
     },
     "execution_count": 32,
     "metadata": {},
     "output_type": "execute_result"
    }
   ],
   "source": [
    "import nltk\n",
    "nltk.download()"
   ]
  },
  {
   "cell_type": "code",
   "execution_count": 33,
   "id": "a6c295d9",
   "metadata": {
    "scrolled": true
   },
   "outputs": [
    {
     "name": "stderr",
     "output_type": "stream",
     "text": [
      "[nltk_data] Downloading package punkt to /home/mitu/nltk_data...\n",
      "[nltk_data]   Package punkt is already up-to-date!\n",
      "[nltk_data] Downloading package averaged_perceptron_tagger to\n",
      "[nltk_data]     /home/mitu/nltk_data...\n",
      "[nltk_data]   Package averaged_perceptron_tagger is already up-to-\n",
      "[nltk_data]       date!\n",
      "[nltk_data] Downloading package stopwords to /home/mitu/nltk_data...\n",
      "[nltk_data]   Unzipping corpora/stopwords.zip.\n",
      "[nltk_data] Downloading package omw-1.4 to /home/mitu/nltk_data...\n",
      "[nltk_data]   Package omw-1.4 is already up-to-date!\n",
      "[nltk_data] Downloading package wordnet to /home/mitu/nltk_data...\n",
      "[nltk_data]   Package wordnet is already up-to-date!\n"
     ]
    },
    {
     "data": {
      "text/plain": [
       "True"
      ]
     },
     "execution_count": 33,
     "metadata": {},
     "output_type": "execute_result"
    }
   ],
   "source": [
    "nltk.download('punkt')\n",
    "nltk.download('averaged_perceptron_tagger')\n",
    "nltk.download('stopwords')\n",
    "nltk.download('omw-1.4')\n",
    "nltk.download('wordnet')"
   ]
  },
  {
   "cell_type": "code",
   "execution_count": 28,
   "id": "8295772d",
   "metadata": {},
   "outputs": [],
   "source": [
    "sent = 'Hello friends! How are you? Welcome to Python Programming.'"
   ]
  },
  {
   "cell_type": "code",
   "execution_count": 30,
   "id": "ad701c98",
   "metadata": {},
   "outputs": [],
   "source": [
    "from nltk.tokenize import word_tokenize, sent_tokenize"
   ]
  },
  {
   "cell_type": "code",
   "execution_count": 34,
   "id": "ac87a921",
   "metadata": {},
   "outputs": [
    {
     "data": {
      "text/plain": [
       "['Hello friends!', 'How are you?', 'Welcome to Python Programming.']"
      ]
     },
     "execution_count": 34,
     "metadata": {},
     "output_type": "execute_result"
    }
   ],
   "source": [
    "# Segmentation\n",
    "sent_tokenize(sent)"
   ]
  },
  {
   "cell_type": "code",
   "execution_count": 35,
   "id": "1c7c2227",
   "metadata": {},
   "outputs": [],
   "source": [
    "words = word_tokenize(sent)"
   ]
  },
  {
   "cell_type": "code",
   "execution_count": 36,
   "id": "c1f7f288",
   "metadata": {},
   "outputs": [
    {
     "data": {
      "text/plain": [
       "['Hello',\n",
       " 'friends',\n",
       " '!',\n",
       " 'How',\n",
       " 'are',\n",
       " 'you',\n",
       " '?',\n",
       " 'Welcome',\n",
       " 'to',\n",
       " 'Python',\n",
       " 'Programming',\n",
       " '.']"
      ]
     },
     "execution_count": 36,
     "metadata": {},
     "output_type": "execute_result"
    }
   ],
   "source": [
    "words"
   ]
  },
  {
   "cell_type": "code",
   "execution_count": 38,
   "id": "2136d1c6",
   "metadata": {},
   "outputs": [
    {
     "name": "stdout",
     "output_type": "stream",
     "text": [
      "hello\n",
      "friends\n",
      "how\n",
      "are\n",
      "you\n",
      "welcome\n",
      "to\n",
      "python\n",
      "programming\n"
     ]
    }
   ],
   "source": [
    "for word in word_tokenize(sent):\n",
    "    if word.isalpha():\n",
    "        print(word.lower())"
   ]
  },
  {
   "cell_type": "markdown",
   "id": "e3a40ff4",
   "metadata": {},
   "source": [
    "#### space tokenizer"
   ]
  },
  {
   "cell_type": "code",
   "execution_count": 40,
   "id": "0f8481ba",
   "metadata": {},
   "outputs": [],
   "source": [
    "sent = 'Hello friends! How are you? Welcome to Python Programming.'"
   ]
  },
  {
   "cell_type": "code",
   "execution_count": 41,
   "id": "6497db67",
   "metadata": {},
   "outputs": [
    {
     "data": {
      "text/plain": [
       "['Hello',\n",
       " 'friends!',\n",
       " 'How',\n",
       " 'are',\n",
       " 'you?',\n",
       " 'Welcome',\n",
       " 'to',\n",
       " 'Python',\n",
       " 'Programming.']"
      ]
     },
     "execution_count": 41,
     "metadata": {},
     "output_type": "execute_result"
    }
   ],
   "source": [
    "from nltk.tokenize import SpaceTokenizer\n",
    "tk = SpaceTokenizer()\n",
    "tk.tokenize(sent)"
   ]
  },
  {
   "cell_type": "markdown",
   "id": "f1f82584",
   "metadata": {},
   "source": [
    "#### tab tokenizer"
   ]
  },
  {
   "cell_type": "code",
   "execution_count": 44,
   "id": "f1e09ff7",
   "metadata": {},
   "outputs": [],
   "source": [
    "sent = 'Hello friends!\\tHow are\\tyou? Welcome to\\tPython Programming.'"
   ]
  },
  {
   "cell_type": "code",
   "execution_count": 45,
   "id": "6ecb93c6",
   "metadata": {},
   "outputs": [
    {
     "name": "stdout",
     "output_type": "stream",
     "text": [
      "Hello friends!\tHow are\tyou? Welcome to\tPython Programming.\n"
     ]
    }
   ],
   "source": [
    "print(sent)"
   ]
  },
  {
   "cell_type": "code",
   "execution_count": 46,
   "id": "4eaf4a43",
   "metadata": {},
   "outputs": [
    {
     "data": {
      "text/plain": [
       "'Hello friends!\\tHow are\\tyou? Welcome to\\tPython Programming.'"
      ]
     },
     "execution_count": 46,
     "metadata": {},
     "output_type": "execute_result"
    }
   ],
   "source": [
    "sent"
   ]
  },
  {
   "cell_type": "code",
   "execution_count": 47,
   "id": "c2051b50",
   "metadata": {},
   "outputs": [
    {
     "data": {
      "text/plain": [
       "['Hello friends!', 'How are', 'you? Welcome to', 'Python Programming.']"
      ]
     },
     "execution_count": 47,
     "metadata": {},
     "output_type": "execute_result"
    }
   ],
   "source": [
    "from nltk.tokenize import TabTokenizer\n",
    "tk = TabTokenizer()\n",
    "tk.tokenize(sent)"
   ]
  },
  {
   "cell_type": "markdown",
   "id": "e98fc93f",
   "metadata": {},
   "source": [
    "#### line tokenizer"
   ]
  },
  {
   "cell_type": "code",
   "execution_count": 49,
   "id": "495a345b",
   "metadata": {},
   "outputs": [],
   "source": [
    "sent = 'Hello friends! How are you?\\nWelcome to Python Programming.'"
   ]
  },
  {
   "cell_type": "code",
   "execution_count": 50,
   "id": "99ed4194",
   "metadata": {},
   "outputs": [
    {
     "name": "stdout",
     "output_type": "stream",
     "text": [
      "Hello friends! How are you?\n",
      "Welcome to Python Programming.\n"
     ]
    }
   ],
   "source": [
    "print(sent)"
   ]
  },
  {
   "cell_type": "code",
   "execution_count": 51,
   "id": "d4e16e9b",
   "metadata": {},
   "outputs": [
    {
     "data": {
      "text/plain": [
       "['Hello friends! How are you?', 'Welcome to Python Programming.']"
      ]
     },
     "execution_count": 51,
     "metadata": {},
     "output_type": "execute_result"
    }
   ],
   "source": [
    "from nltk.tokenize import LineTokenizer\n",
    "tk = LineTokenizer()\n",
    "tk.tokenize(sent)"
   ]
  },
  {
   "cell_type": "markdown",
   "id": "0b38c07e",
   "metadata": {},
   "source": [
    "#### white space tokenizer"
   ]
  },
  {
   "cell_type": "code",
   "execution_count": 53,
   "id": "82c81153",
   "metadata": {},
   "outputs": [],
   "source": [
    "sent = 'Hello\\tfriends! How are you?\\nWelcome to Python Programming.'"
   ]
  },
  {
   "cell_type": "code",
   "execution_count": 54,
   "id": "9d6da349",
   "metadata": {},
   "outputs": [
    {
     "name": "stdout",
     "output_type": "stream",
     "text": [
      "Hello\tfriends! How are you?\n",
      "Welcome to Python Programming.\n"
     ]
    }
   ],
   "source": [
    "print(sent)"
   ]
  },
  {
   "cell_type": "code",
   "execution_count": 55,
   "id": "2de7f187",
   "metadata": {},
   "outputs": [
    {
     "data": {
      "text/plain": [
       "['Hello',\n",
       " 'friends!',\n",
       " 'How',\n",
       " 'are',\n",
       " 'you?',\n",
       " 'Welcome',\n",
       " 'to',\n",
       " 'Python',\n",
       " 'Programming.']"
      ]
     },
     "execution_count": 55,
     "metadata": {},
     "output_type": "execute_result"
    }
   ],
   "source": [
    "from nltk.tokenize import WhitespaceTokenizer  # split\n",
    "tk = WhitespaceTokenizer()\n",
    "tk.tokenize(sent)"
   ]
  },
  {
   "cell_type": "code",
   "execution_count": 57,
   "id": "14ccc185",
   "metadata": {},
   "outputs": [],
   "source": [
    "# In the given sentence, find how many questions present.\n",
    "\n",
    "sents = 'Hi all! How are you? Welcome to Pune. All are ok?'"
   ]
  },
  {
   "cell_type": "code",
   "execution_count": 60,
   "id": "ac13a793",
   "metadata": {},
   "outputs": [
    {
     "data": {
      "text/plain": [
       "2"
      ]
     },
     "execution_count": 60,
     "metadata": {},
     "output_type": "execute_result"
    }
   ],
   "source": [
    "words = word_tokenize(sents)\n",
    "words.count('?')"
   ]
  },
  {
   "cell_type": "code",
   "execution_count": null,
   "id": "01d73d47",
   "metadata": {},
   "outputs": [],
   "source": []
  }
 ],
 "metadata": {
  "kernelspec": {
   "display_name": "Python 3",
   "language": "python",
   "name": "python3"
  },
  "language_info": {
   "codemirror_mode": {
    "name": "ipython",
    "version": 3
   },
   "file_extension": ".py",
   "mimetype": "text/x-python",
   "name": "python",
   "nbconvert_exporter": "python",
   "pygments_lexer": "ipython3",
   "version": "3.8.10"
  }
 },
 "nbformat": 4,
 "nbformat_minor": 5
}
