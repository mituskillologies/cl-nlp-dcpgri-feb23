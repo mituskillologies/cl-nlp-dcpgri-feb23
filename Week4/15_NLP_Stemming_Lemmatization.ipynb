{
 "cells": [
  {
   "cell_type": "markdown",
   "id": "ddd1f37b",
   "metadata": {},
   "source": [
    "### Porter Stemmer"
   ]
  },
  {
   "cell_type": "code",
   "execution_count": 2,
   "id": "82640628",
   "metadata": {},
   "outputs": [],
   "source": [
    "from nltk.stem import PorterStemmer"
   ]
  },
  {
   "cell_type": "code",
   "execution_count": 3,
   "id": "b4cb6193",
   "metadata": {},
   "outputs": [],
   "source": [
    "ps = PorterStemmer()"
   ]
  },
  {
   "cell_type": "code",
   "execution_count": 4,
   "id": "46f79967",
   "metadata": {},
   "outputs": [],
   "source": [
    "s1 = 'cats', 'catlike', 'catty', 'cat' \n",
    "s2 = 'stemmer', 'stemming', 'stemmed', 'stem' \n",
    "s3 = 'fishing', 'fished', 'fisher', 'fish' \n",
    "s4 = 'argue', 'argued', 'argues', 'arguing', 'argus', 'argu' \n",
    "s5 = 'argument', 'arguments', 'argumented' \n",
    "s6 = 'play','player','players','played'"
   ]
  },
  {
   "cell_type": "code",
   "execution_count": 5,
   "id": "c49828c4",
   "metadata": {},
   "outputs": [
    {
     "data": {
      "text/plain": [
       "'cat'"
      ]
     },
     "execution_count": 5,
     "metadata": {},
     "output_type": "execute_result"
    }
   ],
   "source": [
    "ps.stem(s1[0])"
   ]
  },
  {
   "cell_type": "code",
   "execution_count": 7,
   "id": "6b6be22d",
   "metadata": {},
   "outputs": [
    {
     "data": {
      "text/plain": [
       "'fisher'"
      ]
     },
     "execution_count": 7,
     "metadata": {},
     "output_type": "execute_result"
    }
   ],
   "source": [
    "ps.stem(s3[2])"
   ]
  },
  {
   "cell_type": "code",
   "execution_count": 8,
   "id": "321bd5b0",
   "metadata": {},
   "outputs": [
    {
     "data": {
      "text/plain": [
       "'argument'"
      ]
     },
     "execution_count": 8,
     "metadata": {},
     "output_type": "execute_result"
    }
   ],
   "source": [
    "ps.stem(s5[2])"
   ]
  },
  {
   "cell_type": "code",
   "execution_count": 9,
   "id": "03acb5e5",
   "metadata": {},
   "outputs": [
    {
     "name": "stdout",
     "output_type": "stream",
     "text": [
      "cat\n",
      "catlik\n",
      "catti\n",
      "cat\n"
     ]
    }
   ],
   "source": [
    "for word in s1:\n",
    "    print(ps.stem(word))"
   ]
  },
  {
   "cell_type": "code",
   "execution_count": 10,
   "id": "3cedca75",
   "metadata": {},
   "outputs": [
    {
     "name": "stdout",
     "output_type": "stream",
     "text": [
      "stemmer\n",
      "stem\n",
      "stem\n",
      "stem\n"
     ]
    }
   ],
   "source": [
    "for word in s2:\n",
    "    print(ps.stem(word))"
   ]
  },
  {
   "cell_type": "code",
   "execution_count": 11,
   "id": "7437dfc7",
   "metadata": {},
   "outputs": [
    {
     "name": "stdout",
     "output_type": "stream",
     "text": [
      "fish\n",
      "fish\n",
      "fisher\n",
      "fish\n"
     ]
    }
   ],
   "source": [
    "for word in s3:\n",
    "    print(ps.stem(word))"
   ]
  },
  {
   "cell_type": "code",
   "execution_count": 12,
   "id": "34276f4c",
   "metadata": {},
   "outputs": [
    {
     "name": "stdout",
     "output_type": "stream",
     "text": [
      "argu\n",
      "argu\n",
      "argu\n",
      "argu\n",
      "argu\n",
      "argu\n"
     ]
    }
   ],
   "source": [
    "for word in s4:\n",
    "    print(ps.stem(word))"
   ]
  },
  {
   "cell_type": "markdown",
   "id": "ced5970c",
   "metadata": {},
   "source": [
    "### Lancaster Stemmer"
   ]
  },
  {
   "cell_type": "code",
   "execution_count": 14,
   "id": "49e0a9ac",
   "metadata": {},
   "outputs": [],
   "source": [
    "from nltk.stem import LancasterStemmer"
   ]
  },
  {
   "cell_type": "code",
   "execution_count": 15,
   "id": "8390c239",
   "metadata": {},
   "outputs": [],
   "source": [
    "ls = LancasterStemmer()"
   ]
  },
  {
   "cell_type": "code",
   "execution_count": 19,
   "id": "1449958e",
   "metadata": {},
   "outputs": [
    {
     "name": "stdout",
     "output_type": "stream",
     "text": [
      "play\n",
      "play\n",
      "play\n",
      "play\n"
     ]
    }
   ],
   "source": [
    "for word in s6:\n",
    "    print(ls.stem(word))"
   ]
  },
  {
   "cell_type": "code",
   "execution_count": 20,
   "id": "0a3762c9",
   "metadata": {},
   "outputs": [
    {
     "data": {
      "text/plain": [
       "'gon'"
      ]
     },
     "execution_count": 20,
     "metadata": {},
     "output_type": "execute_result"
    }
   ],
   "source": [
    "ls.stem('gone')"
   ]
  },
  {
   "cell_type": "code",
   "execution_count": 21,
   "id": "b3bd852b",
   "metadata": {},
   "outputs": [
    {
     "data": {
      "text/plain": [
       "'prsjmed'"
      ]
     },
     "execution_count": 21,
     "metadata": {},
     "output_type": "execute_result"
    }
   ],
   "source": [
    "ls.stem('prsjmed')"
   ]
  },
  {
   "cell_type": "markdown",
   "id": "3c9c3446",
   "metadata": {},
   "source": [
    "### Lemmatization"
   ]
  },
  {
   "cell_type": "code",
   "execution_count": 23,
   "id": "228ff46e",
   "metadata": {},
   "outputs": [],
   "source": [
    "from nltk.stem import WordNetLemmatizer"
   ]
  },
  {
   "cell_type": "code",
   "execution_count": 24,
   "id": "8900e189",
   "metadata": {},
   "outputs": [],
   "source": [
    "wnl = WordNetLemmatizer()"
   ]
  },
  {
   "cell_type": "code",
   "execution_count": 31,
   "id": "a169d1f6",
   "metadata": {},
   "outputs": [
    {
     "name": "stdout",
     "output_type": "stream",
     "text": [
      "Noun     : worst\n",
      "Verb     : worst\n",
      "Adjective: bad\n",
      "Adverb   : worst\n"
     ]
    }
   ],
   "source": [
    "word = 'worst'\n",
    "print('Noun     :', wnl.lemmatize(word, pos='n'))\n",
    "print('Verb     :', wnl.lemmatize(word, pos='v'))\n",
    "print('Adjective:', wnl.lemmatize(word, pos='a'))\n",
    "print('Adverb   :', wnl.lemmatize(word, pos='r'))"
   ]
  },
  {
   "cell_type": "code",
   "execution_count": null,
   "id": "4acf619b",
   "metadata": {},
   "outputs": [],
   "source": []
  }
 ],
 "metadata": {
  "kernelspec": {
   "display_name": "Python 3",
   "language": "python",
   "name": "python3"
  },
  "language_info": {
   "codemirror_mode": {
    "name": "ipython",
    "version": 3
   },
   "file_extension": ".py",
   "mimetype": "text/x-python",
   "name": "python",
   "nbconvert_exporter": "python",
   "pygments_lexer": "ipython3",
   "version": "3.8.10"
  }
 },
 "nbformat": 4,
 "nbformat_minor": 5
}
